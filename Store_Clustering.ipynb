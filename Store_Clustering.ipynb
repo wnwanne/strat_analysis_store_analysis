{
 "cells": [
  {
   "cell_type": "markdown",
   "metadata": {},
   "source": [
    "## Eataly Case Study \n",
    "\n",
    "### New Store Opening Analysis\n",
    "\n",
    "### The purpose of this notebook is to take real locations and dummy revenue data to predict, using Machine Learning, the ideal location for a new store opening. This prediction is based on revenue and location. Like all AI predictions, it should be reviewed by a human to ensure we're leveraging AI responsibly. "
   ]
  },
  {
   "cell_type": "code",
   "execution_count": 20,
   "metadata": {},
   "outputs": [
    {
     "name": "stdout",
     "output_type": "stream",
     "text": [
      "Requirement already satisfied: aiofiles==23.2.1 in c:\\users\\wnwanne\\appdata\\local\\packages\\pythonsoftwarefoundation.python.3.11_qbz5n2kfra8p0\\localcache\\local-packages\\python311\\site-packages (from -r requirements.txt (line 1)) (23.2.1)\n",
      "Requirement already satisfied: aiohttp==3.9.1 in c:\\users\\wnwanne\\appdata\\local\\packages\\pythonsoftwarefoundation.python.3.11_qbz5n2kfra8p0\\localcache\\local-packages\\python311\\site-packages (from -r requirements.txt (line 2)) (3.9.1)\n",
      "Requirement already satisfied: aiosignal==1.3.1 in c:\\users\\wnwanne\\appdata\\local\\packages\\pythonsoftwarefoundation.python.3.11_qbz5n2kfra8p0\\localcache\\local-packages\\python311\\site-packages (from -r requirements.txt (line 3)) (1.3.1)\n",
      "Requirement already satisfied: annotated-types==0.6.0 in c:\\users\\wnwanne\\appdata\\local\\packages\\pythonsoftwarefoundation.python.3.11_qbz5n2kfra8p0\\localcache\\local-packages\\python311\\site-packages (from -r requirements.txt (line 4)) (0.6.0)\n",
      "Requirement already satisfied: anyio==3.7.1 in c:\\users\\wnwanne\\appdata\\local\\packages\\pythonsoftwarefoundation.python.3.11_qbz5n2kfra8p0\\localcache\\local-packages\\python311\\site-packages (from -r requirements.txt (line 5)) (3.7.1)\n",
      "Requirement already satisfied: argon2-cffi==23.1.0 in c:\\users\\wnwanne\\appdata\\local\\packages\\pythonsoftwarefoundation.python.3.11_qbz5n2kfra8p0\\localcache\\local-packages\\python311\\site-packages (from -r requirements.txt (line 6)) (23.1.0)\n",
      "Requirement already satisfied: argon2-cffi-bindings==21.2.0 in c:\\users\\wnwanne\\appdata\\local\\packages\\pythonsoftwarefoundation.python.3.11_qbz5n2kfra8p0\\localcache\\local-packages\\python311\\site-packages (from -r requirements.txt (line 7)) (21.2.0)\n",
      "Requirement already satisfied: arrow==1.3.0 in c:\\users\\wnwanne\\appdata\\local\\packages\\pythonsoftwarefoundation.python.3.11_qbz5n2kfra8p0\\localcache\\local-packages\\python311\\site-packages (from -r requirements.txt (line 8)) (1.3.0)\n",
      "Requirement already satisfied: asgiref==3.7.2 in c:\\users\\wnwanne\\appdata\\local\\packages\\pythonsoftwarefoundation.python.3.11_qbz5n2kfra8p0\\localcache\\local-packages\\python311\\site-packages (from -r requirements.txt (line 9)) (3.7.2)\n",
      "Requirement already satisfied: asttokens==2.4.1 in c:\\users\\wnwanne\\appdata\\local\\packages\\pythonsoftwarefoundation.python.3.11_qbz5n2kfra8p0\\localcache\\local-packages\\python311\\site-packages (from -r requirements.txt (line 10)) (2.4.1)\n",
      "Requirement already satisfied: async-lru==2.0.4 in c:\\users\\wnwanne\\appdata\\local\\packages\\pythonsoftwarefoundation.python.3.11_qbz5n2kfra8p0\\localcache\\local-packages\\python311\\site-packages (from -r requirements.txt (line 11)) (2.0.4)\n",
      "Requirement already satisfied: attrs==23.1.0 in c:\\users\\wnwanne\\appdata\\local\\packages\\pythonsoftwarefoundation.python.3.11_qbz5n2kfra8p0\\localcache\\local-packages\\python311\\site-packages (from -r requirements.txt (line 12)) (23.1.0)\n",
      "Requirement already satisfied: azure-core==1.29.5 in c:\\users\\wnwanne\\appdata\\local\\packages\\pythonsoftwarefoundation.python.3.11_qbz5n2kfra8p0\\localcache\\local-packages\\python311\\site-packages (from -r requirements.txt (line 13)) (1.29.5)\n",
      "Requirement already satisfied: azure-identity==1.15.0 in c:\\users\\wnwanne\\appdata\\local\\packages\\pythonsoftwarefoundation.python.3.11_qbz5n2kfra8p0\\localcache\\local-packages\\python311\\site-packages (from -r requirements.txt (line 14)) (1.15.0)\n",
      "Requirement already satisfied: Babel==2.14.0 in c:\\users\\wnwanne\\appdata\\local\\packages\\pythonsoftwarefoundation.python.3.11_qbz5n2kfra8p0\\localcache\\local-packages\\python311\\site-packages (from -r requirements.txt (line 15)) (2.14.0)\n",
      "Requirement already satisfied: beautifulsoup4==4.12.2 in c:\\users\\wnwanne\\appdata\\local\\packages\\pythonsoftwarefoundation.python.3.11_qbz5n2kfra8p0\\localcache\\local-packages\\python311\\site-packages (from -r requirements.txt (line 16)) (4.12.2)\n",
      "Requirement already satisfied: bleach==6.1.0 in c:\\users\\wnwanne\\appdata\\local\\packages\\pythonsoftwarefoundation.python.3.11_qbz5n2kfra8p0\\localcache\\local-packages\\python311\\site-packages (from -r requirements.txt (line 17)) (6.1.0)\n",
      "Requirement already satisfied: blinker==1.7.0 in c:\\users\\wnwanne\\appdata\\local\\packages\\pythonsoftwarefoundation.python.3.11_qbz5n2kfra8p0\\localcache\\local-packages\\python311\\site-packages (from -r requirements.txt (line 18)) (1.7.0)\n",
      "Requirement already satisfied: cachetools==5.3.2 in c:\\users\\wnwanne\\appdata\\local\\packages\\pythonsoftwarefoundation.python.3.11_qbz5n2kfra8p0\\localcache\\local-packages\\python311\\site-packages (from -r requirements.txt (line 19)) (5.3.2)\n",
      "Requirement already satisfied: certifi==2023.11.17 in c:\\users\\wnwanne\\appdata\\local\\packages\\pythonsoftwarefoundation.python.3.11_qbz5n2kfra8p0\\localcache\\local-packages\\python311\\site-packages (from -r requirements.txt (line 20)) (2023.11.17)\n",
      "Requirement already satisfied: cffi==1.16.0 in c:\\users\\wnwanne\\appdata\\local\\packages\\pythonsoftwarefoundation.python.3.11_qbz5n2kfra8p0\\localcache\\local-packages\\python311\\site-packages (from -r requirements.txt (line 21)) (1.16.0)\n",
      "Requirement already satisfied: chardet==5.2.0 in c:\\users\\wnwanne\\appdata\\local\\packages\\pythonsoftwarefoundation.python.3.11_qbz5n2kfra8p0\\localcache\\local-packages\\python311\\site-packages (from -r requirements.txt (line 22)) (5.2.0)\n",
      "Requirement already satisfied: charset-normalizer==3.3.2 in c:\\users\\wnwanne\\appdata\\local\\packages\\pythonsoftwarefoundation.python.3.11_qbz5n2kfra8p0\\localcache\\local-packages\\python311\\site-packages (from -r requirements.txt (line 23)) (3.3.2)\n",
      "Requirement already satisfied: click==8.1.7 in c:\\users\\wnwanne\\appdata\\local\\packages\\pythonsoftwarefoundation.python.3.11_qbz5n2kfra8p0\\localcache\\local-packages\\python311\\site-packages (from -r requirements.txt (line 24)) (8.1.7)\n",
      "Requirement already satisfied: colorama==0.4.6 in c:\\users\\wnwanne\\appdata\\local\\packages\\pythonsoftwarefoundation.python.3.11_qbz5n2kfra8p0\\localcache\\local-packages\\python311\\site-packages (from -r requirements.txt (line 25)) (0.4.6)\n",
      "Requirement already satisfied: comm==0.2.0 in c:\\users\\wnwanne\\appdata\\local\\packages\\pythonsoftwarefoundation.python.3.11_qbz5n2kfra8p0\\localcache\\local-packages\\python311\\site-packages (from -r requirements.txt (line 26)) (0.2.0)\n",
      "Requirement already satisfied: cryptography==41.0.7 in c:\\users\\wnwanne\\appdata\\local\\packages\\pythonsoftwarefoundation.python.3.11_qbz5n2kfra8p0\\localcache\\local-packages\\python311\\site-packages (from -r requirements.txt (line 27)) (41.0.7)\n",
      "Requirement already satisfied: debugpy==1.8.0 in c:\\users\\wnwanne\\appdata\\local\\packages\\pythonsoftwarefoundation.python.3.11_qbz5n2kfra8p0\\localcache\\local-packages\\python311\\site-packages (from -r requirements.txt (line 28)) (1.8.0)\n",
      "Requirement already satisfied: decorator==5.1.1 in c:\\users\\wnwanne\\appdata\\local\\packages\\pythonsoftwarefoundation.python.3.11_qbz5n2kfra8p0\\localcache\\local-packages\\python311\\site-packages (from -r requirements.txt (line 29)) (5.1.1)\n",
      "Requirement already satisfied: defusedxml==0.7.1 in c:\\users\\wnwanne\\appdata\\local\\packages\\pythonsoftwarefoundation.python.3.11_qbz5n2kfra8p0\\localcache\\local-packages\\python311\\site-packages (from -r requirements.txt (line 30)) (0.7.1)\n",
      "Requirement already satisfied: distlib==0.3.7 in c:\\users\\wnwanne\\appdata\\local\\packages\\pythonsoftwarefoundation.python.3.11_qbz5n2kfra8p0\\localcache\\local-packages\\python311\\site-packages (from -r requirements.txt (line 31)) (0.3.7)\n",
      "Requirement already satisfied: distro==1.8.0 in c:\\users\\wnwanne\\appdata\\local\\packages\\pythonsoftwarefoundation.python.3.11_qbz5n2kfra8p0\\localcache\\local-packages\\python311\\site-packages (from -r requirements.txt (line 32)) (1.8.0)\n",
      "Requirement already satisfied: dnspython==2.4.2 in c:\\users\\wnwanne\\appdata\\local\\packages\\pythonsoftwarefoundation.python.3.11_qbz5n2kfra8p0\\localcache\\local-packages\\python311\\site-packages (from -r requirements.txt (line 33)) (2.4.2)\n",
      "Requirement already satisfied: executing==2.0.1 in c:\\users\\wnwanne\\appdata\\local\\packages\\pythonsoftwarefoundation.python.3.11_qbz5n2kfra8p0\\localcache\\local-packages\\python311\\site-packages (from -r requirements.txt (line 34)) (2.0.1)\n",
      "Requirement already satisfied: fastjsonschema==2.19.1 in c:\\users\\wnwanne\\appdata\\local\\packages\\pythonsoftwarefoundation.python.3.11_qbz5n2kfra8p0\\localcache\\local-packages\\python311\\site-packages (from -r requirements.txt (line 35)) (2.19.1)\n",
      "Requirement already satisfied: filelock==3.13.1 in c:\\users\\wnwanne\\appdata\\local\\packages\\pythonsoftwarefoundation.python.3.11_qbz5n2kfra8p0\\localcache\\local-packages\\python311\\site-packages (from -r requirements.txt (line 36)) (3.13.1)\n",
      "Requirement already satisfied: filetype==1.2.0 in c:\\users\\wnwanne\\appdata\\local\\packages\\pythonsoftwarefoundation.python.3.11_qbz5n2kfra8p0\\localcache\\local-packages\\python311\\site-packages (from -r requirements.txt (line 37)) (1.2.0)\n",
      "Requirement already satisfied: Flask==3.0.0 in c:\\users\\wnwanne\\appdata\\local\\packages\\pythonsoftwarefoundation.python.3.11_qbz5n2kfra8p0\\localcache\\local-packages\\python311\\site-packages (from -r requirements.txt (line 38)) (3.0.0)\n",
      "Requirement already satisfied: fqdn==1.5.1 in c:\\users\\wnwanne\\appdata\\local\\packages\\pythonsoftwarefoundation.python.3.11_qbz5n2kfra8p0\\localcache\\local-packages\\python311\\site-packages (from -r requirements.txt (line 39)) (1.5.1)\n",
      "Requirement already satisfied: frozenlist==1.4.1 in c:\\users\\wnwanne\\appdata\\local\\packages\\pythonsoftwarefoundation.python.3.11_qbz5n2kfra8p0\\localcache\\local-packages\\python311\\site-packages (from -r requirements.txt (line 40)) (1.4.1)\n",
      "Requirement already satisfied: gitdb==4.0.11 in c:\\users\\wnwanne\\appdata\\local\\packages\\pythonsoftwarefoundation.python.3.11_qbz5n2kfra8p0\\localcache\\local-packages\\python311\\site-packages (from -r requirements.txt (line 41)) (4.0.11)\n",
      "Requirement already satisfied: GitPython==3.1.40 in c:\\users\\wnwanne\\appdata\\local\\packages\\pythonsoftwarefoundation.python.3.11_qbz5n2kfra8p0\\localcache\\local-packages\\python311\\site-packages (from -r requirements.txt (line 42)) (3.1.40)\n",
      "Requirement already satisfied: google-api-core==2.14.0 in c:\\users\\wnwanne\\appdata\\local\\packages\\pythonsoftwarefoundation.python.3.11_qbz5n2kfra8p0\\localcache\\local-packages\\python311\\site-packages (from -r requirements.txt (line 43)) (2.14.0)\n",
      "Requirement already satisfied: google-auth==2.25.1 in c:\\users\\wnwanne\\appdata\\local\\packages\\pythonsoftwarefoundation.python.3.11_qbz5n2kfra8p0\\localcache\\local-packages\\python311\\site-packages (from -r requirements.txt (line 44)) (2.25.1)\n",
      "Requirement already satisfied: google-search-results==2.4.1 in c:\\users\\wnwanne\\appdata\\local\\packages\\pythonsoftwarefoundation.python.3.11_qbz5n2kfra8p0\\localcache\\local-packages\\python311\\site-packages (from -r requirements.txt (line 45)) (2.4.1)\n",
      "Requirement already satisfied: googleapis-common-protos==1.61.0 in c:\\users\\wnwanne\\appdata\\local\\packages\\pythonsoftwarefoundation.python.3.11_qbz5n2kfra8p0\\localcache\\local-packages\\python311\\site-packages (from -r requirements.txt (line 46)) (1.61.0)\n",
      "Requirement already satisfied: greenlet==3.0.1 in c:\\users\\wnwanne\\appdata\\local\\packages\\pythonsoftwarefoundation.python.3.11_qbz5n2kfra8p0\\localcache\\local-packages\\python311\\site-packages (from -r requirements.txt (line 47)) (3.0.1)\n",
      "Requirement already satisfied: h11==0.14.0 in c:\\users\\wnwanne\\appdata\\local\\packages\\pythonsoftwarefoundation.python.3.11_qbz5n2kfra8p0\\localcache\\local-packages\\python311\\site-packages (from -r requirements.txt (line 48)) (0.14.0)\n",
      "Requirement already satisfied: httpcore==1.0.2 in c:\\users\\wnwanne\\appdata\\local\\packages\\pythonsoftwarefoundation.python.3.11_qbz5n2kfra8p0\\localcache\\local-packages\\python311\\site-packages (from -r requirements.txt (line 49)) (1.0.2)\n",
      "Requirement already satisfied: httpx==0.25.2 in c:\\users\\wnwanne\\appdata\\local\\packages\\pythonsoftwarefoundation.python.3.11_qbz5n2kfra8p0\\localcache\\local-packages\\python311\\site-packages (from -r requirements.txt (line 50)) (0.25.2)\n",
      "Requirement already satisfied: idna==3.6 in c:\\users\\wnwanne\\appdata\\local\\packages\\pythonsoftwarefoundation.python.3.11_qbz5n2kfra8p0\\localcache\\local-packages\\python311\\site-packages (from -r requirements.txt (line 51)) (3.6)\n",
      "Requirement already satisfied: importlib-metadata==7.0.0 in c:\\users\\wnwanne\\appdata\\local\\packages\\pythonsoftwarefoundation.python.3.11_qbz5n2kfra8p0\\localcache\\local-packages\\python311\\site-packages (from -r requirements.txt (line 52)) (7.0.0)\n",
      "Requirement already satisfied: ipykernel==6.27.1 in c:\\users\\wnwanne\\appdata\\local\\packages\\pythonsoftwarefoundation.python.3.11_qbz5n2kfra8p0\\localcache\\local-packages\\python311\\site-packages (from -r requirements.txt (line 53)) (6.27.1)\n",
      "Requirement already satisfied: ipython==8.19.0 in c:\\users\\wnwanne\\appdata\\local\\packages\\pythonsoftwarefoundation.python.3.11_qbz5n2kfra8p0\\localcache\\local-packages\\python311\\site-packages (from -r requirements.txt (line 54)) (8.19.0)\n",
      "Requirement already satisfied: ipywidgets==8.1.1 in c:\\users\\wnwanne\\appdata\\local\\packages\\pythonsoftwarefoundation.python.3.11_qbz5n2kfra8p0\\localcache\\local-packages\\python311\\site-packages (from -r requirements.txt (line 55)) (8.1.1)\n",
      "Requirement already satisfied: isodate==0.6.1 in c:\\users\\wnwanne\\appdata\\local\\packages\\pythonsoftwarefoundation.python.3.11_qbz5n2kfra8p0\\localcache\\local-packages\\python311\\site-packages (from -r requirements.txt (line 56)) (0.6.1)\n",
      "Requirement already satisfied: isoduration==20.11.0 in c:\\users\\wnwanne\\appdata\\local\\packages\\pythonsoftwarefoundation.python.3.11_qbz5n2kfra8p0\\localcache\\local-packages\\python311\\site-packages (from -r requirements.txt (line 57)) (20.11.0)\n",
      "Requirement already satisfied: itsdangerous==2.1.2 in c:\\users\\wnwanne\\appdata\\local\\packages\\pythonsoftwarefoundation.python.3.11_qbz5n2kfra8p0\\localcache\\local-packages\\python311\\site-packages (from -r requirements.txt (line 58)) (2.1.2)\n",
      "Requirement already satisfied: jaraco.classes==3.3.0 in c:\\users\\wnwanne\\appdata\\local\\packages\\pythonsoftwarefoundation.python.3.11_qbz5n2kfra8p0\\localcache\\local-packages\\python311\\site-packages (from -r requirements.txt (line 59)) (3.3.0)\n",
      "Requirement already satisfied: jedi==0.19.1 in c:\\users\\wnwanne\\appdata\\local\\packages\\pythonsoftwarefoundation.python.3.11_qbz5n2kfra8p0\\localcache\\local-packages\\python311\\site-packages (from -r requirements.txt (line 60)) (0.19.1)\n",
      "Requirement already satisfied: Jinja2==3.1.2 in c:\\users\\wnwanne\\appdata\\local\\packages\\pythonsoftwarefoundation.python.3.11_qbz5n2kfra8p0\\localcache\\local-packages\\python311\\site-packages (from -r requirements.txt (line 61)) (3.1.2)\n",
      "Requirement already satisfied: joblib==1.3.2 in c:\\users\\wnwanne\\appdata\\local\\packages\\pythonsoftwarefoundation.python.3.11_qbz5n2kfra8p0\\localcache\\local-packages\\python311\\site-packages (from -r requirements.txt (line 62)) (1.3.2)\n",
      "Requirement already satisfied: json5==0.9.14 in c:\\users\\wnwanne\\appdata\\local\\packages\\pythonsoftwarefoundation.python.3.11_qbz5n2kfra8p0\\localcache\\local-packages\\python311\\site-packages (from -r requirements.txt (line 63)) (0.9.14)\n",
      "Requirement already satisfied: jsonpointer==2.4 in c:\\users\\wnwanne\\appdata\\local\\packages\\pythonsoftwarefoundation.python.3.11_qbz5n2kfra8p0\\localcache\\local-packages\\python311\\site-packages (from -r requirements.txt (line 64)) (2.4)\n",
      "Requirement already satisfied: jsonschema==4.20.0 in c:\\users\\wnwanne\\appdata\\local\\packages\\pythonsoftwarefoundation.python.3.11_qbz5n2kfra8p0\\localcache\\local-packages\\python311\\site-packages (from -r requirements.txt (line 65)) (4.20.0)\n",
      "Requirement already satisfied: jsonschema-path==0.3.2 in c:\\users\\wnwanne\\appdata\\local\\packages\\pythonsoftwarefoundation.python.3.11_qbz5n2kfra8p0\\localcache\\local-packages\\python311\\site-packages (from -r requirements.txt (line 66)) (0.3.2)\n",
      "Requirement already satisfied: jsonschema-spec==0.2.4 in c:\\users\\wnwanne\\appdata\\local\\packages\\pythonsoftwarefoundation.python.3.11_qbz5n2kfra8p0\\localcache\\local-packages\\python311\\site-packages (from -r requirements.txt (line 67)) (0.2.4)\n",
      "Requirement already satisfied: jsonschema-specifications==2023.7.1 in c:\\users\\wnwanne\\appdata\\local\\packages\\pythonsoftwarefoundation.python.3.11_qbz5n2kfra8p0\\localcache\\local-packages\\python311\\site-packages (from -r requirements.txt (line 68)) (2023.7.1)\n",
      "Requirement already satisfied: jupyter==1.0.0 in c:\\users\\wnwanne\\appdata\\local\\packages\\pythonsoftwarefoundation.python.3.11_qbz5n2kfra8p0\\localcache\\local-packages\\python311\\site-packages (from -r requirements.txt (line 69)) (1.0.0)\n",
      "Requirement already satisfied: jupyter-console==6.6.3 in c:\\users\\wnwanne\\appdata\\local\\packages\\pythonsoftwarefoundation.python.3.11_qbz5n2kfra8p0\\localcache\\local-packages\\python311\\site-packages (from -r requirements.txt (line 70)) (6.6.3)\n",
      "Requirement already satisfied: jupyter-events==0.9.0 in c:\\users\\wnwanne\\appdata\\local\\packages\\pythonsoftwarefoundation.python.3.11_qbz5n2kfra8p0\\localcache\\local-packages\\python311\\site-packages (from -r requirements.txt (line 71)) (0.9.0)\n",
      "Requirement already satisfied: jupyter-lsp==2.2.1 in c:\\users\\wnwanne\\appdata\\local\\packages\\pythonsoftwarefoundation.python.3.11_qbz5n2kfra8p0\\localcache\\local-packages\\python311\\site-packages (from -r requirements.txt (line 72)) (2.2.1)\n",
      "Requirement already satisfied: jupyter_client==8.6.0 in c:\\users\\wnwanne\\appdata\\local\\packages\\pythonsoftwarefoundation.python.3.11_qbz5n2kfra8p0\\localcache\\local-packages\\python311\\site-packages (from -r requirements.txt (line 73)) (8.6.0)\n",
      "Requirement already satisfied: jupyter_core==5.5.1 in c:\\users\\wnwanne\\appdata\\local\\packages\\pythonsoftwarefoundation.python.3.11_qbz5n2kfra8p0\\localcache\\local-packages\\python311\\site-packages (from -r requirements.txt (line 74)) (5.5.1)\n",
      "Requirement already satisfied: jupyter_server==2.12.2 in c:\\users\\wnwanne\\appdata\\local\\packages\\pythonsoftwarefoundation.python.3.11_qbz5n2kfra8p0\\localcache\\local-packages\\python311\\site-packages (from -r requirements.txt (line 75)) (2.12.2)\n",
      "Requirement already satisfied: jupyter_server_terminals==0.5.1 in c:\\users\\wnwanne\\appdata\\local\\packages\\pythonsoftwarefoundation.python.3.11_qbz5n2kfra8p0\\localcache\\local-packages\\python311\\site-packages (from -r requirements.txt (line 76)) (0.5.1)\n",
      "Requirement already satisfied: jupyterlab==4.0.10 in c:\\users\\wnwanne\\appdata\\local\\packages\\pythonsoftwarefoundation.python.3.11_qbz5n2kfra8p0\\localcache\\local-packages\\python311\\site-packages (from -r requirements.txt (line 77)) (4.0.10)\n",
      "Requirement already satisfied: jupyterlab-widgets==3.0.9 in c:\\users\\wnwanne\\appdata\\local\\packages\\pythonsoftwarefoundation.python.3.11_qbz5n2kfra8p0\\localcache\\local-packages\\python311\\site-packages (from -r requirements.txt (line 78)) (3.0.9)\n",
      "Requirement already satisfied: jupyterlab_pygments==0.3.0 in c:\\users\\wnwanne\\appdata\\local\\packages\\pythonsoftwarefoundation.python.3.11_qbz5n2kfra8p0\\localcache\\local-packages\\python311\\site-packages (from -r requirements.txt (line 79)) (0.3.0)\n",
      "Requirement already satisfied: jupyterlab_server==2.25.2 in c:\\users\\wnwanne\\appdata\\local\\packages\\pythonsoftwarefoundation.python.3.11_qbz5n2kfra8p0\\localcache\\local-packages\\python311\\site-packages (from -r requirements.txt (line 80)) (2.25.2)\n",
      "Requirement already satisfied: keyring==24.3.0 in c:\\users\\wnwanne\\appdata\\local\\packages\\pythonsoftwarefoundation.python.3.11_qbz5n2kfra8p0\\localcache\\local-packages\\python311\\site-packages (from -r requirements.txt (line 81)) (24.3.0)\n",
      "Requirement already satisfied: lazy-object-proxy==1.10.0 in c:\\users\\wnwanne\\appdata\\local\\packages\\pythonsoftwarefoundation.python.3.11_qbz5n2kfra8p0\\localcache\\local-packages\\python311\\site-packages (from -r requirements.txt (line 82)) (1.10.0)\n",
      "Requirement already satisfied: MarkupSafe==2.1.3 in c:\\users\\wnwanne\\appdata\\local\\packages\\pythonsoftwarefoundation.python.3.11_qbz5n2kfra8p0\\localcache\\local-packages\\python311\\site-packages (from -r requirements.txt (line 83)) (2.1.3)\n",
      "Requirement already satisfied: marshmallow==3.20.1 in c:\\users\\wnwanne\\appdata\\local\\packages\\pythonsoftwarefoundation.python.3.11_qbz5n2kfra8p0\\localcache\\local-packages\\python311\\site-packages (from -r requirements.txt (line 84)) (3.20.1)\n",
      "Requirement already satisfied: matplotlib-inline==0.1.6 in c:\\users\\wnwanne\\appdata\\local\\packages\\pythonsoftwarefoundation.python.3.11_qbz5n2kfra8p0\\localcache\\local-packages\\python311\\site-packages (from -r requirements.txt (line 85)) (0.1.6)\n",
      "Requirement already satisfied: mistune==3.0.2 in c:\\users\\wnwanne\\appdata\\local\\packages\\pythonsoftwarefoundation.python.3.11_qbz5n2kfra8p0\\localcache\\local-packages\\python311\\site-packages (from -r requirements.txt (line 86)) (3.0.2)\n",
      "Requirement already satisfied: more-itertools==10.1.0 in c:\\users\\wnwanne\\appdata\\local\\packages\\pythonsoftwarefoundation.python.3.11_qbz5n2kfra8p0\\localcache\\local-packages\\python311\\site-packages (from -r requirements.txt (line 87)) (10.1.0)\n",
      "Requirement already satisfied: motor==3.3.2 in c:\\users\\wnwanne\\appdata\\local\\packages\\pythonsoftwarefoundation.python.3.11_qbz5n2kfra8p0\\localcache\\local-packages\\python311\\site-packages (from -r requirements.txt (line 88)) (3.3.2)\n",
      "Requirement already satisfied: msal==1.26.0 in c:\\users\\wnwanne\\appdata\\local\\packages\\pythonsoftwarefoundation.python.3.11_qbz5n2kfra8p0\\localcache\\local-packages\\python311\\site-packages (from -r requirements.txt (line 89)) (1.26.0)\n",
      "Requirement already satisfied: msal-extensions==1.0.0 in c:\\users\\wnwanne\\appdata\\local\\packages\\pythonsoftwarefoundation.python.3.11_qbz5n2kfra8p0\\localcache\\local-packages\\python311\\site-packages (from -r requirements.txt (line 90)) (1.0.0)\n",
      "Requirement already satisfied: multidict==6.0.4 in c:\\users\\wnwanne\\appdata\\local\\packages\\pythonsoftwarefoundation.python.3.11_qbz5n2kfra8p0\\localcache\\local-packages\\python311\\site-packages (from -r requirements.txt (line 91)) (6.0.4)\n",
      "Requirement already satisfied: nbclient==0.9.0 in c:\\users\\wnwanne\\appdata\\local\\packages\\pythonsoftwarefoundation.python.3.11_qbz5n2kfra8p0\\localcache\\local-packages\\python311\\site-packages (from -r requirements.txt (line 92)) (0.9.0)\n",
      "Requirement already satisfied: nbconvert==7.14.0 in c:\\users\\wnwanne\\appdata\\local\\packages\\pythonsoftwarefoundation.python.3.11_qbz5n2kfra8p0\\localcache\\local-packages\\python311\\site-packages (from -r requirements.txt (line 93)) (7.14.0)\n",
      "Requirement already satisfied: nbformat==5.9.2 in c:\\users\\wnwanne\\appdata\\local\\packages\\pythonsoftwarefoundation.python.3.11_qbz5n2kfra8p0\\localcache\\local-packages\\python311\\site-packages (from -r requirements.txt (line 94)) (5.9.2)\n",
      "Requirement already satisfied: nest-asyncio==1.5.8 in c:\\users\\wnwanne\\appdata\\local\\packages\\pythonsoftwarefoundation.python.3.11_qbz5n2kfra8p0\\localcache\\local-packages\\python311\\site-packages (from -r requirements.txt (line 95)) (1.5.8)\n",
      "Requirement already satisfied: notebook==7.0.6 in c:\\users\\wnwanne\\appdata\\local\\packages\\pythonsoftwarefoundation.python.3.11_qbz5n2kfra8p0\\localcache\\local-packages\\python311\\site-packages (from -r requirements.txt (line 96)) (7.0.6)\n",
      "Requirement already satisfied: notebook_shim==0.2.3 in c:\\users\\wnwanne\\appdata\\local\\packages\\pythonsoftwarefoundation.python.3.11_qbz5n2kfra8p0\\localcache\\local-packages\\python311\\site-packages (from -r requirements.txt (line 97)) (0.2.3)\n",
      "Requirement already satisfied: numpy==1.26.2 in c:\\users\\wnwanne\\appdata\\local\\packages\\pythonsoftwarefoundation.python.3.11_qbz5n2kfra8p0\\localcache\\local-packages\\python311\\site-packages (from -r requirements.txt (line 98)) (1.26.2)\n",
      "Requirement already satisfied: openai==1.3.8 in c:\\users\\wnwanne\\appdata\\local\\packages\\pythonsoftwarefoundation.python.3.11_qbz5n2kfra8p0\\localcache\\local-packages\\python311\\site-packages (from -r requirements.txt (line 99)) (1.3.8)\n",
      "Requirement already satisfied: openapi-core==0.18.2 in c:\\users\\wnwanne\\appdata\\local\\packages\\pythonsoftwarefoundation.python.3.11_qbz5n2kfra8p0\\localcache\\local-packages\\python311\\site-packages (from -r requirements.txt (line 100)) (0.18.2)\n",
      "Requirement already satisfied: openapi-schema-validator==0.6.2 in c:\\users\\wnwanne\\appdata\\local\\packages\\pythonsoftwarefoundation.python.3.11_qbz5n2kfra8p0\\localcache\\local-packages\\python311\\site-packages (from -r requirements.txt (line 101)) (0.6.2)\n",
      "Requirement already satisfied: openapi-spec-validator==0.7.1 in c:\\users\\wnwanne\\appdata\\local\\packages\\pythonsoftwarefoundation.python.3.11_qbz5n2kfra8p0\\localcache\\local-packages\\python311\\site-packages (from -r requirements.txt (line 102)) (0.7.1)\n",
      "Requirement already satisfied: opencensus==0.11.3 in c:\\users\\wnwanne\\appdata\\local\\packages\\pythonsoftwarefoundation.python.3.11_qbz5n2kfra8p0\\localcache\\local-packages\\python311\\site-packages (from -r requirements.txt (line 103)) (0.11.3)\n",
      "Requirement already satisfied: opencensus-context==0.1.3 in c:\\users\\wnwanne\\appdata\\local\\packages\\pythonsoftwarefoundation.python.3.11_qbz5n2kfra8p0\\localcache\\local-packages\\python311\\site-packages (from -r requirements.txt (line 104)) (0.1.3)\n",
      "Requirement already satisfied: opencensus-ext-azure==1.1.12 in c:\\users\\wnwanne\\appdata\\local\\packages\\pythonsoftwarefoundation.python.3.11_qbz5n2kfra8p0\\localcache\\local-packages\\python311\\site-packages (from -r requirements.txt (line 105)) (1.1.12)\n",
      "Requirement already satisfied: overrides==7.4.0 in c:\\users\\wnwanne\\appdata\\local\\packages\\pythonsoftwarefoundation.python.3.11_qbz5n2kfra8p0\\localcache\\local-packages\\python311\\site-packages (from -r requirements.txt (line 106)) (7.4.0)\n",
      "Requirement already satisfied: packaging==23.2 in c:\\users\\wnwanne\\appdata\\local\\packages\\pythonsoftwarefoundation.python.3.11_qbz5n2kfra8p0\\localcache\\local-packages\\python311\\site-packages (from -r requirements.txt (line 107)) (23.2)\n",
      "Requirement already satisfied: pandas==2.1.3 in c:\\users\\wnwanne\\appdata\\local\\packages\\pythonsoftwarefoundation.python.3.11_qbz5n2kfra8p0\\localcache\\local-packages\\python311\\site-packages (from -r requirements.txt (line 108)) (2.1.3)\n",
      "Requirement already satisfied: pandocfilters==1.5.0 in c:\\users\\wnwanne\\appdata\\local\\packages\\pythonsoftwarefoundation.python.3.11_qbz5n2kfra8p0\\localcache\\local-packages\\python311\\site-packages (from -r requirements.txt (line 109)) (1.5.0)\n",
      "Requirement already satisfied: parse==1.20.0 in c:\\users\\wnwanne\\appdata\\local\\packages\\pythonsoftwarefoundation.python.3.11_qbz5n2kfra8p0\\localcache\\local-packages\\python311\\site-packages (from -r requirements.txt (line 110)) (1.20.0)\n",
      "Requirement already satisfied: parso==0.8.3 in c:\\users\\wnwanne\\appdata\\local\\packages\\pythonsoftwarefoundation.python.3.11_qbz5n2kfra8p0\\localcache\\local-packages\\python311\\site-packages (from -r requirements.txt (line 111)) (0.8.3)\n",
      "Requirement already satisfied: pathable==0.4.3 in c:\\users\\wnwanne\\appdata\\local\\packages\\pythonsoftwarefoundation.python.3.11_qbz5n2kfra8p0\\localcache\\local-packages\\python311\\site-packages (from -r requirements.txt (line 112)) (0.4.3)\n",
      "Requirement already satisfied: pdf2image==1.17.0 in c:\\users\\wnwanne\\appdata\\local\\packages\\pythonsoftwarefoundation.python.3.11_qbz5n2kfra8p0\\localcache\\local-packages\\python311\\site-packages (from -r requirements.txt (line 113)) (1.17.0)\n",
      "Requirement already satisfied: Pillow==10.1.0 in c:\\users\\wnwanne\\appdata\\local\\packages\\pythonsoftwarefoundation.python.3.11_qbz5n2kfra8p0\\localcache\\local-packages\\python311\\site-packages (from -r requirements.txt (line 114)) (10.1.0)\n",
      "Requirement already satisfied: platformdirs==4.1.0 in c:\\users\\wnwanne\\appdata\\local\\packages\\pythonsoftwarefoundation.python.3.11_qbz5n2kfra8p0\\localcache\\local-packages\\python311\\site-packages (from -r requirements.txt (line 115)) (4.1.0)\n",
      "Requirement already satisfied: plotly==5.19.0 in c:\\users\\wnwanne\\appdata\\local\\packages\\pythonsoftwarefoundation.python.3.11_qbz5n2kfra8p0\\localcache\\local-packages\\python311\\site-packages (from -r requirements.txt (line 116)) (5.19.0)\n",
      "Requirement already satisfied: portalocker==2.8.2 in c:\\users\\wnwanne\\appdata\\local\\packages\\pythonsoftwarefoundation.python.3.11_qbz5n2kfra8p0\\localcache\\local-packages\\python311\\site-packages (from -r requirements.txt (line 117)) (2.8.2)\n",
      "Requirement already satisfied: prance==23.6.21.0 in c:\\users\\wnwanne\\appdata\\local\\packages\\pythonsoftwarefoundation.python.3.11_qbz5n2kfra8p0\\localcache\\local-packages\\python311\\site-packages (from -r requirements.txt (line 118)) (23.6.21.0)\n",
      "Requirement already satisfied: prometheus-client==0.19.0 in c:\\users\\wnwanne\\appdata\\local\\packages\\pythonsoftwarefoundation.python.3.11_qbz5n2kfra8p0\\localcache\\local-packages\\python311\\site-packages (from -r requirements.txt (line 119)) (0.19.0)\n",
      "Requirement already satisfied: prompt-toolkit==3.0.43 in c:\\users\\wnwanne\\appdata\\local\\packages\\pythonsoftwarefoundation.python.3.11_qbz5n2kfra8p0\\localcache\\local-packages\\python311\\site-packages (from -r requirements.txt (line 120)) (3.0.43)\n",
      "Requirement already satisfied: promptflow==1.1.1 in c:\\users\\wnwanne\\appdata\\local\\packages\\pythonsoftwarefoundation.python.3.11_qbz5n2kfra8p0\\localcache\\local-packages\\python311\\site-packages (from -r requirements.txt (line 121)) (1.1.1)\n",
      "Requirement already satisfied: promptflow-tools==1.0.0 in c:\\users\\wnwanne\\appdata\\local\\packages\\pythonsoftwarefoundation.python.3.11_qbz5n2kfra8p0\\localcache\\local-packages\\python311\\site-packages (from -r requirements.txt (line 122)) (1.0.0)\n",
      "Requirement already satisfied: protobuf==4.25.1 in c:\\users\\wnwanne\\appdata\\local\\packages\\pythonsoftwarefoundation.python.3.11_qbz5n2kfra8p0\\localcache\\local-packages\\python311\\site-packages (from -r requirements.txt (line 123)) (4.25.1)\n",
      "Requirement already satisfied: psutil==5.9.6 in c:\\users\\wnwanne\\appdata\\local\\packages\\pythonsoftwarefoundation.python.3.11_qbz5n2kfra8p0\\localcache\\local-packages\\python311\\site-packages (from -r requirements.txt (line 124)) (5.9.6)\n",
      "Requirement already satisfied: pure-eval==0.2.2 in c:\\users\\wnwanne\\appdata\\local\\packages\\pythonsoftwarefoundation.python.3.11_qbz5n2kfra8p0\\localcache\\local-packages\\python311\\site-packages (from -r requirements.txt (line 125)) (0.2.2)\n",
      "Requirement already satisfied: pyarrow==14.0.1 in c:\\users\\wnwanne\\appdata\\local\\packages\\pythonsoftwarefoundation.python.3.11_qbz5n2kfra8p0\\localcache\\local-packages\\python311\\site-packages (from -r requirements.txt (line 126)) (14.0.1)\n",
      "Requirement already satisfied: pyasn1==0.5.1 in c:\\users\\wnwanne\\appdata\\local\\packages\\pythonsoftwarefoundation.python.3.11_qbz5n2kfra8p0\\localcache\\local-packages\\python311\\site-packages (from -r requirements.txt (line 127)) (0.5.1)\n",
      "Requirement already satisfied: pyasn1-modules==0.3.0 in c:\\users\\wnwanne\\appdata\\local\\packages\\pythonsoftwarefoundation.python.3.11_qbz5n2kfra8p0\\localcache\\local-packages\\python311\\site-packages (from -r requirements.txt (line 128)) (0.3.0)\n",
      "Requirement already satisfied: pycparser==2.21 in c:\\users\\wnwanne\\appdata\\local\\packages\\pythonsoftwarefoundation.python.3.11_qbz5n2kfra8p0\\localcache\\local-packages\\python311\\site-packages (from -r requirements.txt (line 129)) (2.21)\n",
      "Requirement already satisfied: pydantic==2.5.2 in c:\\users\\wnwanne\\appdata\\local\\packages\\pythonsoftwarefoundation.python.3.11_qbz5n2kfra8p0\\localcache\\local-packages\\python311\\site-packages (from -r requirements.txt (line 130)) (2.5.2)\n",
      "Requirement already satisfied: pydantic_core==2.14.5 in c:\\users\\wnwanne\\appdata\\local\\packages\\pythonsoftwarefoundation.python.3.11_qbz5n2kfra8p0\\localcache\\local-packages\\python311\\site-packages (from -r requirements.txt (line 131)) (2.14.5)\n",
      "Requirement already satisfied: pydash==7.0.6 in c:\\users\\wnwanne\\appdata\\local\\packages\\pythonsoftwarefoundation.python.3.11_qbz5n2kfra8p0\\localcache\\local-packages\\python311\\site-packages (from -r requirements.txt (line 132)) (7.0.6)\n",
      "Requirement already satisfied: Pygments==2.17.2 in c:\\users\\wnwanne\\appdata\\local\\packages\\pythonsoftwarefoundation.python.3.11_qbz5n2kfra8p0\\localcache\\local-packages\\python311\\site-packages (from -r requirements.txt (line 133)) (2.17.2)\n",
      "Requirement already satisfied: PyJWT==2.8.0 in c:\\users\\wnwanne\\appdata\\local\\packages\\pythonsoftwarefoundation.python.3.11_qbz5n2kfra8p0\\localcache\\local-packages\\python311\\site-packages (from -r requirements.txt (line 134)) (2.8.0)\n",
      "Requirement already satisfied: pymongo==4.6.1 in c:\\users\\wnwanne\\appdata\\local\\packages\\pythonsoftwarefoundation.python.3.11_qbz5n2kfra8p0\\localcache\\local-packages\\python311\\site-packages (from -r requirements.txt (line 135)) (4.6.1)\n",
      "Requirement already satisfied: python-dateutil==2.8.2 in c:\\users\\wnwanne\\appdata\\local\\packages\\pythonsoftwarefoundation.python.3.11_qbz5n2kfra8p0\\localcache\\local-packages\\python311\\site-packages (from -r requirements.txt (line 136)) (2.8.2)\n",
      "Requirement already satisfied: python-dotenv==1.0.0 in c:\\users\\wnwanne\\appdata\\local\\packages\\pythonsoftwarefoundation.python.3.11_qbz5n2kfra8p0\\localcache\\local-packages\\python311\\site-packages (from -r requirements.txt (line 137)) (1.0.0)\n",
      "Requirement already satisfied: python-json-logger==2.0.7 in c:\\users\\wnwanne\\appdata\\local\\packages\\pythonsoftwarefoundation.python.3.11_qbz5n2kfra8p0\\localcache\\local-packages\\python311\\site-packages (from -r requirements.txt (line 138)) (2.0.7)\n",
      "Requirement already satisfied: pytz==2023.3.post1 in c:\\users\\wnwanne\\appdata\\local\\packages\\pythonsoftwarefoundation.python.3.11_qbz5n2kfra8p0\\localcache\\local-packages\\python311\\site-packages (from -r requirements.txt (line 139)) (2023.3.post1)\n",
      "Requirement already satisfied: pywin32==306 in c:\\users\\wnwanne\\appdata\\local\\packages\\pythonsoftwarefoundation.python.3.11_qbz5n2kfra8p0\\localcache\\local-packages\\python311\\site-packages (from -r requirements.txt (line 140)) (306)\n",
      "Requirement already satisfied: pywin32-ctypes==0.2.2 in c:\\users\\wnwanne\\appdata\\local\\packages\\pythonsoftwarefoundation.python.3.11_qbz5n2kfra8p0\\localcache\\local-packages\\python311\\site-packages (from -r requirements.txt (line 141)) (0.2.2)\n",
      "Requirement already satisfied: pywinpty==2.0.12 in c:\\users\\wnwanne\\appdata\\local\\packages\\pythonsoftwarefoundation.python.3.11_qbz5n2kfra8p0\\localcache\\local-packages\\python311\\site-packages (from -r requirements.txt (line 142)) (2.0.12)\n",
      "Requirement already satisfied: PyYAML==6.0.1 in c:\\users\\wnwanne\\appdata\\local\\packages\\pythonsoftwarefoundation.python.3.11_qbz5n2kfra8p0\\localcache\\local-packages\\python311\\site-packages (from -r requirements.txt (line 143)) (6.0.1)\n",
      "Requirement already satisfied: pyzmq==25.1.2 in c:\\users\\wnwanne\\appdata\\local\\packages\\pythonsoftwarefoundation.python.3.11_qbz5n2kfra8p0\\localcache\\local-packages\\python311\\site-packages (from -r requirements.txt (line 144)) (25.1.2)\n",
      "Requirement already satisfied: qtconsole==5.5.1 in c:\\users\\wnwanne\\appdata\\local\\packages\\pythonsoftwarefoundation.python.3.11_qbz5n2kfra8p0\\localcache\\local-packages\\python311\\site-packages (from -r requirements.txt (line 145)) (5.5.1)\n",
      "Requirement already satisfied: QtPy==2.4.1 in c:\\users\\wnwanne\\appdata\\local\\packages\\pythonsoftwarefoundation.python.3.11_qbz5n2kfra8p0\\localcache\\local-packages\\python311\\site-packages (from -r requirements.txt (line 146)) (2.4.1)\n",
      "Requirement already satisfied: referencing==0.30.2 in c:\\users\\wnwanne\\appdata\\local\\packages\\pythonsoftwarefoundation.python.3.11_qbz5n2kfra8p0\\localcache\\local-packages\\python311\\site-packages (from -r requirements.txt (line 147)) (0.30.2)\n",
      "Requirement already satisfied: regex==2023.10.3 in c:\\users\\wnwanne\\appdata\\local\\packages\\pythonsoftwarefoundation.python.3.11_qbz5n2kfra8p0\\localcache\\local-packages\\python311\\site-packages (from -r requirements.txt (line 148)) (2023.10.3)\n",
      "Requirement already satisfied: requests==2.31.0 in c:\\users\\wnwanne\\appdata\\local\\packages\\pythonsoftwarefoundation.python.3.11_qbz5n2kfra8p0\\localcache\\local-packages\\python311\\site-packages (from -r requirements.txt (line 149)) (2.31.0)\n",
      "Requirement already satisfied: rfc3339-validator==0.1.4 in c:\\users\\wnwanne\\appdata\\local\\packages\\pythonsoftwarefoundation.python.3.11_qbz5n2kfra8p0\\localcache\\local-packages\\python311\\site-packages (from -r requirements.txt (line 150)) (0.1.4)\n",
      "Requirement already satisfied: rfc3986-validator==0.1.1 in c:\\users\\wnwanne\\appdata\\local\\packages\\pythonsoftwarefoundation.python.3.11_qbz5n2kfra8p0\\localcache\\local-packages\\python311\\site-packages (from -r requirements.txt (line 151)) (0.1.1)\n",
      "Requirement already satisfied: rpds-py==0.15.2 in c:\\users\\wnwanne\\appdata\\local\\packages\\pythonsoftwarefoundation.python.3.11_qbz5n2kfra8p0\\localcache\\local-packages\\python311\\site-packages (from -r requirements.txt (line 152)) (0.15.2)\n",
      "Requirement already satisfied: rsa==4.9 in c:\\users\\wnwanne\\appdata\\local\\packages\\pythonsoftwarefoundation.python.3.11_qbz5n2kfra8p0\\localcache\\local-packages\\python311\\site-packages (from -r requirements.txt (line 153)) (4.9)\n",
      "Requirement already satisfied: ruamel.yaml==0.18.5 in c:\\users\\wnwanne\\appdata\\local\\packages\\pythonsoftwarefoundation.python.3.11_qbz5n2kfra8p0\\localcache\\local-packages\\python311\\site-packages (from -r requirements.txt (line 154)) (0.18.5)\n",
      "Requirement already satisfied: ruamel.yaml.clib==0.2.8 in c:\\users\\wnwanne\\appdata\\local\\packages\\pythonsoftwarefoundation.python.3.11_qbz5n2kfra8p0\\localcache\\local-packages\\python311\\site-packages (from -r requirements.txt (line 155)) (0.2.8)\n",
      "Requirement already satisfied: scikit-learn==1.4.1.post1 in c:\\users\\wnwanne\\appdata\\local\\packages\\pythonsoftwarefoundation.python.3.11_qbz5n2kfra8p0\\localcache\\local-packages\\python311\\site-packages (from -r requirements.txt (line 156)) (1.4.1.post1)\n",
      "Requirement already satisfied: scipy==1.12.0 in c:\\users\\wnwanne\\appdata\\local\\packages\\pythonsoftwarefoundation.python.3.11_qbz5n2kfra8p0\\localcache\\local-packages\\python311\\site-packages (from -r requirements.txt (line 157)) (1.12.0)\n",
      "Requirement already satisfied: semantic-kernel==0.4.3.dev0 in c:\\users\\wnwanne\\appdata\\local\\packages\\pythonsoftwarefoundation.python.3.11_qbz5n2kfra8p0\\localcache\\local-packages\\python311\\site-packages (from -r requirements.txt (line 158)) (0.4.3.dev0)\n",
      "Requirement already satisfied: Send2Trash==1.8.2 in c:\\users\\wnwanne\\appdata\\local\\packages\\pythonsoftwarefoundation.python.3.11_qbz5n2kfra8p0\\localcache\\local-packages\\python311\\site-packages (from -r requirements.txt (line 159)) (1.8.2)\n",
      "Requirement already satisfied: six==1.16.0 in c:\\users\\wnwanne\\appdata\\local\\packages\\pythonsoftwarefoundation.python.3.11_qbz5n2kfra8p0\\localcache\\local-packages\\python311\\site-packages (from -r requirements.txt (line 160)) (1.16.0)\n",
      "Requirement already satisfied: smmap==5.0.1 in c:\\users\\wnwanne\\appdata\\local\\packages\\pythonsoftwarefoundation.python.3.11_qbz5n2kfra8p0\\localcache\\local-packages\\python311\\site-packages (from -r requirements.txt (line 161)) (5.0.1)\n",
      "Requirement already satisfied: sniffio==1.3.0 in c:\\users\\wnwanne\\appdata\\local\\packages\\pythonsoftwarefoundation.python.3.11_qbz5n2kfra8p0\\localcache\\local-packages\\python311\\site-packages (from -r requirements.txt (line 162)) (1.3.0)\n",
      "Requirement already satisfied: soupsieve==2.5 in c:\\users\\wnwanne\\appdata\\local\\packages\\pythonsoftwarefoundation.python.3.11_qbz5n2kfra8p0\\localcache\\local-packages\\python311\\site-packages (from -r requirements.txt (line 163)) (2.5)\n",
      "Requirement already satisfied: SQLAlchemy==2.0.23 in c:\\users\\wnwanne\\appdata\\local\\packages\\pythonsoftwarefoundation.python.3.11_qbz5n2kfra8p0\\localcache\\local-packages\\python311\\site-packages (from -r requirements.txt (line 164)) (2.0.23)\n",
      "Requirement already satisfied: stack-data==0.6.3 in c:\\users\\wnwanne\\appdata\\local\\packages\\pythonsoftwarefoundation.python.3.11_qbz5n2kfra8p0\\localcache\\local-packages\\python311\\site-packages (from -r requirements.txt (line 165)) (0.6.3)\n",
      "Requirement already satisfied: strictyaml==1.7.3 in c:\\users\\wnwanne\\appdata\\local\\packages\\pythonsoftwarefoundation.python.3.11_qbz5n2kfra8p0\\localcache\\local-packages\\python311\\site-packages (from -r requirements.txt (line 166)) (1.7.3)\n",
      "Requirement already satisfied: tabulate==0.9.0 in c:\\users\\wnwanne\\appdata\\local\\packages\\pythonsoftwarefoundation.python.3.11_qbz5n2kfra8p0\\localcache\\local-packages\\python311\\site-packages (from -r requirements.txt (line 167)) (0.9.0)\n",
      "Requirement already satisfied: tenacity==8.2.3 in c:\\users\\wnwanne\\appdata\\local\\packages\\pythonsoftwarefoundation.python.3.11_qbz5n2kfra8p0\\localcache\\local-packages\\python311\\site-packages (from -r requirements.txt (line 168)) (8.2.3)\n",
      "Requirement already satisfied: terminado==0.18.0 in c:\\users\\wnwanne\\appdata\\local\\packages\\pythonsoftwarefoundation.python.3.11_qbz5n2kfra8p0\\localcache\\local-packages\\python311\\site-packages (from -r requirements.txt (line 169)) (0.18.0)\n",
      "Requirement already satisfied: threadpoolctl==3.3.0 in c:\\users\\wnwanne\\appdata\\local\\packages\\pythonsoftwarefoundation.python.3.11_qbz5n2kfra8p0\\localcache\\local-packages\\python311\\site-packages (from -r requirements.txt (line 170)) (3.3.0)\n",
      "Requirement already satisfied: tiktoken==0.5.2 in c:\\users\\wnwanne\\appdata\\local\\packages\\pythonsoftwarefoundation.python.3.11_qbz5n2kfra8p0\\localcache\\local-packages\\python311\\site-packages (from -r requirements.txt (line 171)) (0.5.2)\n",
      "Requirement already satisfied: tinycss2==1.2.1 in c:\\users\\wnwanne\\appdata\\local\\packages\\pythonsoftwarefoundation.python.3.11_qbz5n2kfra8p0\\localcache\\local-packages\\python311\\site-packages (from -r requirements.txt (line 172)) (1.2.1)\n",
      "Requirement already satisfied: tornado==6.4 in c:\\users\\wnwanne\\appdata\\local\\packages\\pythonsoftwarefoundation.python.3.11_qbz5n2kfra8p0\\localcache\\local-packages\\python311\\site-packages (from -r requirements.txt (line 173)) (6.4)\n",
      "Requirement already satisfied: tqdm==4.66.1 in c:\\users\\wnwanne\\appdata\\local\\packages\\pythonsoftwarefoundation.python.3.11_qbz5n2kfra8p0\\localcache\\local-packages\\python311\\site-packages (from -r requirements.txt (line 174)) (4.66.1)\n",
      "Requirement already satisfied: traitlets==5.14.0 in c:\\users\\wnwanne\\appdata\\local\\packages\\pythonsoftwarefoundation.python.3.11_qbz5n2kfra8p0\\localcache\\local-packages\\python311\\site-packages (from -r requirements.txt (line 175)) (5.14.0)\n",
      "Requirement already satisfied: types-python-dateutil==2.8.19.14 in c:\\users\\wnwanne\\appdata\\local\\packages\\pythonsoftwarefoundation.python.3.11_qbz5n2kfra8p0\\localcache\\local-packages\\python311\\site-packages (from -r requirements.txt (line 176)) (2.8.19.14)\n",
      "Requirement already satisfied: typing_extensions==4.8.0 in c:\\users\\wnwanne\\appdata\\local\\packages\\pythonsoftwarefoundation.python.3.11_qbz5n2kfra8p0\\localcache\\local-packages\\python311\\site-packages (from -r requirements.txt (line 177)) (4.8.0)\n",
      "Requirement already satisfied: tzdata==2023.3 in c:\\users\\wnwanne\\appdata\\local\\packages\\pythonsoftwarefoundation.python.3.11_qbz5n2kfra8p0\\localcache\\local-packages\\python311\\site-packages (from -r requirements.txt (line 178)) (2023.3)\n",
      "Requirement already satisfied: uri-template==1.3.0 in c:\\users\\wnwanne\\appdata\\local\\packages\\pythonsoftwarefoundation.python.3.11_qbz5n2kfra8p0\\localcache\\local-packages\\python311\\site-packages (from -r requirements.txt (line 179)) (1.3.0)\n",
      "Requirement already satisfied: urllib3==2.1.0 in c:\\users\\wnwanne\\appdata\\local\\packages\\pythonsoftwarefoundation.python.3.11_qbz5n2kfra8p0\\localcache\\local-packages\\python311\\site-packages (from -r requirements.txt (line 180)) (2.1.0)\n",
      "Requirement already satisfied: virtualenv==20.25.0 in c:\\users\\wnwanne\\appdata\\local\\packages\\pythonsoftwarefoundation.python.3.11_qbz5n2kfra8p0\\localcache\\local-packages\\python311\\site-packages (from -r requirements.txt (line 181)) (20.25.0)\n",
      "Requirement already satisfied: waitress==2.1.2 in c:\\users\\wnwanne\\appdata\\local\\packages\\pythonsoftwarefoundation.python.3.11_qbz5n2kfra8p0\\localcache\\local-packages\\python311\\site-packages (from -r requirements.txt (line 182)) (2.1.2)\n",
      "Requirement already satisfied: wcwidth==0.2.12 in c:\\users\\wnwanne\\appdata\\local\\packages\\pythonsoftwarefoundation.python.3.11_qbz5n2kfra8p0\\localcache\\local-packages\\python311\\site-packages (from -r requirements.txt (line 183)) (0.2.12)\n",
      "Requirement already satisfied: webcolors==1.13 in c:\\users\\wnwanne\\appdata\\local\\packages\\pythonsoftwarefoundation.python.3.11_qbz5n2kfra8p0\\localcache\\local-packages\\python311\\site-packages (from -r requirements.txt (line 184)) (1.13)\n",
      "Requirement already satisfied: webencodings==0.5.1 in c:\\users\\wnwanne\\appdata\\local\\packages\\pythonsoftwarefoundation.python.3.11_qbz5n2kfra8p0\\localcache\\local-packages\\python311\\site-packages (from -r requirements.txt (line 185)) (0.5.1)\n",
      "Requirement already satisfied: websocket-client==1.7.0 in c:\\users\\wnwanne\\appdata\\local\\packages\\pythonsoftwarefoundation.python.3.11_qbz5n2kfra8p0\\localcache\\local-packages\\python311\\site-packages (from -r requirements.txt (line 186)) (1.7.0)\n",
      "Requirement already satisfied: Werkzeug==3.0.1 in c:\\users\\wnwanne\\appdata\\local\\packages\\pythonsoftwarefoundation.python.3.11_qbz5n2kfra8p0\\localcache\\local-packages\\python311\\site-packages (from -r requirements.txt (line 187)) (3.0.1)\n",
      "Requirement already satisfied: widgetsnbextension==4.0.9 in c:\\users\\wnwanne\\appdata\\local\\packages\\pythonsoftwarefoundation.python.3.11_qbz5n2kfra8p0\\localcache\\local-packages\\python311\\site-packages (from -r requirements.txt (line 188)) (4.0.9)\n",
      "Requirement already satisfied: yarl==1.9.4 in c:\\users\\wnwanne\\appdata\\local\\packages\\pythonsoftwarefoundation.python.3.11_qbz5n2kfra8p0\\localcache\\local-packages\\python311\\site-packages (from -r requirements.txt (line 189)) (1.9.4)\n",
      "Requirement already satisfied: zipp==3.17.0 in c:\\users\\wnwanne\\appdata\\local\\packages\\pythonsoftwarefoundation.python.3.11_qbz5n2kfra8p0\\localcache\\local-packages\\python311\\site-packages (from -r requirements.txt (line 190)) (3.17.0)\n",
      "Note: you may need to restart the kernel to use updated packages.\n"
     ]
    },
    {
     "name": "stderr",
     "output_type": "stream",
     "text": [
      "\n",
      "[notice] A new release of pip is available: 23.3.2 -> 24.0\n",
      "[notice] To update, run: C:\\Users\\wnwanne\\AppData\\Local\\Microsoft\\WindowsApps\\PythonSoftwareFoundation.Python.3.11_qbz5n2kfra8p0\\python.exe -m pip install --upgrade pip\n"
     ]
    }
   ],
   "source": [
    "%pip install -r requirements.txt"
   ]
  },
  {
   "cell_type": "code",
   "execution_count": 9,
   "metadata": {},
   "outputs": [],
   "source": [
    "import pandas as pd\n",
    "import numpy as np\n",
    "import plotly.graph_objects as go\n",
    "from sklearn.cluster import KMeans\n"
   ]
  },
  {
   "cell_type": "markdown",
   "metadata": {},
   "source": [
    "# Read in Original Dataset"
   ]
  },
  {
   "cell_type": "code",
   "execution_count": 3,
   "metadata": {},
   "outputs": [
    {
     "data": {
      "text/html": [
       "<div>\n",
       "<style scoped>\n",
       "    .dataframe tbody tr th:only-of-type {\n",
       "        vertical-align: middle;\n",
       "    }\n",
       "\n",
       "    .dataframe tbody tr th {\n",
       "        vertical-align: top;\n",
       "    }\n",
       "\n",
       "    .dataframe thead th {\n",
       "        text-align: right;\n",
       "    }\n",
       "</style>\n",
       "<table border=\"1\" class=\"dataframe\">\n",
       "  <thead>\n",
       "    <tr style=\"text-align: right;\">\n",
       "      <th></th>\n",
       "      <th>Store</th>\n",
       "      <th>Lat</th>\n",
       "      <th>Long</th>\n",
       "      <th>Rev (annonymized)</th>\n",
       "    </tr>\n",
       "  </thead>\n",
       "  <tbody>\n",
       "    <tr>\n",
       "      <th>0</th>\n",
       "      <td>Piazza XXV Aprile 10, 20121 Milano</td>\n",
       "      <td>45.480546</td>\n",
       "      <td>9.185924</td>\n",
       "      <td>5119110</td>\n",
       "    </tr>\n",
       "    <tr>\n",
       "      <th>1</th>\n",
       "      <td>Via Ermanno Fenoglietti, 14, 10126 Turin - Met...</td>\n",
       "      <td>45.040852</td>\n",
       "      <td>7.675395</td>\n",
       "      <td>7454667</td>\n",
       "    </tr>\n",
       "    <tr>\n",
       "      <th>2</th>\n",
       "      <td>Piazzale XII Ottobre 1492, 00154 Rome</td>\n",
       "      <td>41.875706</td>\n",
       "      <td>12.479535</td>\n",
       "      <td>6293900</td>\n",
       "    </tr>\n",
       "    <tr>\n",
       "      <th>3</th>\n",
       "      <td>Via Santa Teresa 12, 37135 Verona</td>\n",
       "      <td>45.419600</td>\n",
       "      <td>10.993312</td>\n",
       "      <td>5686253</td>\n",
       "    </tr>\n",
       "    <tr>\n",
       "      <th>4</th>\n",
       "      <td>Edificio Millo Porto Antico, Calata Cattaneo 1...</td>\n",
       "      <td>44.409225</td>\n",
       "      <td>8.928206</td>\n",
       "      <td>7239911</td>\n",
       "    </tr>\n",
       "  </tbody>\n",
       "</table>\n",
       "</div>"
      ],
      "text/plain": [
       "                                               Store        Lat       Long  \\\n",
       "0                 Piazza XXV Aprile 10, 20121 Milano  45.480546   9.185924   \n",
       "1  Via Ermanno Fenoglietti, 14, 10126 Turin - Met...  45.040852   7.675395   \n",
       "2              Piazzale XII Ottobre 1492, 00154 Rome  41.875706  12.479535   \n",
       "3                  Via Santa Teresa 12, 37135 Verona  45.419600  10.993312   \n",
       "4  Edificio Millo Porto Antico, Calata Cattaneo 1...  44.409225   8.928206   \n",
       "\n",
       "   Rev (annonymized)  \n",
       "0            5119110  \n",
       "1            7454667  \n",
       "2            6293900  \n",
       "3            5686253  \n",
       "4            7239911  "
      ]
     },
     "execution_count": 3,
     "metadata": {},
     "output_type": "execute_result"
    }
   ],
   "source": [
    "df = pd.read_csv('Eataly_Locations.csv')\n",
    "df.head()"
   ]
  },
  {
   "cell_type": "markdown",
   "metadata": {},
   "source": [
    "# Pre-model Visualization"
   ]
  },
  {
   "cell_type": "code",
   "execution_count": 4,
   "metadata": {},
   "outputs": [
    {
     "data": {
      "application/vnd.plotly.v1+json": {
       "config": {
        "plotlyServerURL": "https://plot.ly"
       },
       "data": [
        {
         "lat": [
          45.480546,
          45.040852,
          41.875706,
          45.4196,
          44.409225,
          45.650033,
          45.052237,
          43.776558,
          44.494887,
          45.068885,
          44.700414,
          44.885526,
          40.741987,
          40.710642,
          40.723298,
          41.892321,
          42.348545,
          34.059145,
          36.102752,
          32.868099,
          37.32552,
          43.669807,
          43.610524,
          -23.586974,
          25.197197,
          25.079406,
          25.115224,
          35.681391,
          35.686512,
          35.685175,
          35.669487,
          37.394359,
          51.518643,
          51.49816,
          51.519444,
          51.518249,
          48.858837,
          48.135125,
          59.336162
         ],
         "lon": [
          9.185924,
          7.675395,
          12.479535,
          10.993312,
          8.928206,
          13.768136,
          9.692633,
          11.255813,
          11.3426162,
          7.682489,
          7.854073,
          7.349512,
          -73.98966,
          -74.012385,
          -73.996994,
          -87.626953,
          -71.082768,
          -118.418431,
          -115.174557,
          -96.773654,
          -121.945154,
          -79.388499,
          -79.557252,
          -46.684289,
          55.279261,
          55.134569,
          55.273228,
          139.766103,
          139.773243,
          139.774055,
          139.761711,
          127.111213,
          -0.081068,
          -0.08003,
          -0.108033,
          -0.081411,
          2.358328,
          11.576124,
          18.072796
         ],
         "mode": "markers",
         "text": [
          "Name:Piazza XXV Aprile 10, 20121 Milano Total Rev:5119110",
          "Name:Via Ermanno Fenoglietti, 14, 10126 Turin - Metro Spezia Total Rev:7454667",
          "Name:Piazzale XII Ottobre 1492, 00154 Rome Total Rev:6293900",
          "Name:Via Santa Teresa 12, 37135 Verona Total Rev:5686253",
          "Name:Edificio Millo Porto Antico, Calata Cattaneo 15, 16128 Genova Total Rev:7239911",
          "Name:Riva Tommaso Gulli 1, 34123 Trieste Total Rev:6583639",
          "Name:Stradone Farnese 39, 29121 Piacenza Total Rev:5247594",
          "Name:Via De Martelli 22 R, 50129 Florence Total Rev:5345082",
          "Name:Via Degli Orefici 19, 40124 Bologna Total Rev:6079383",
          "Name:Via Lagrange 3, 10123 Turin Total Rev:7029041",
          "Name:Strada Statale 231 Alba-Bra, Zona Industriale 2, 12066 Monticello (CN) Total Rev:5327691",
          "Name:Via Poirino 104, 10064 Pinerolo (TO) Total Rev:6566063",
          "Name:200 Fifth Avenue, New York, NY 10010 Total Rev:5745529",
          "Name:4 World Trade Center, 101 Liberty Street, New York, NY Total Rev:6308636",
          "Name:200 Lafayette St, New York, NY 10012 Total Rev:7031548",
          "Name:43 East Ohio Street, Chicago, IL 60611 Total Rev:5694374",
          "Name:Prudential Center, 800 Boylston Street, Boston, MA Total Rev:5914264",
          "Name:10250 Santa Monica Blvd., Los Angeles, CA Total Rev:5715638",
          "Name:Park MGM, 3770 S Las Vegas Blvd, Las Vegas, NV Total Rev:7179275",
          "Name:NorthPark Center, 8687 N. Central Expy, Dallas, TX Total Rev:5528122",
          "Name:2855 Stevens Creek Blvd., San Jose, CA Total Rev:7326274",
          "Name:Manulife Centre, 55 Bloor Street West, Toronto, ON Total Rev:7991827",
          "Name:25 The West Mall, Toronto, ON Total Rev:6808928",
          "Name:Av. Pres.Juscelino Kubitschek, 1489 - São Paulo Total Rev:5566872",
          "Name:Dubai Mall, Downtown Dubai, Dubai Total Rev:6201653",
          "Name:Jumeirah Beach Residence, Dubai Total Rev:6927349",
          "Name:Dubai Hills Estate, Dubai Total Rev:7726236",
          "Name:100-0005 Marunouchi 1-9-1, B1F JR East Tokyo Station Total Rev:5599293",
          "Name:東京都中央区日本橋室町1丁目3-10 Total Rev:5353212",
          "Name:〒103-8001 東京都中央区日本橋室町1丁目4-1 Total Rev:6861200",
          "Name:〒104-0061 東京都中央区銀座6丁目10-1 Total Rev:5334933",
          "Name:Seongnam 20, Pangyoyeok-ro 146beon-gil, Bundang-gu, B1, Hyundai Department Store Total Rev:6101414",
          "Name:135 Bishopsgate, London EC2M 3YD Total Rev:6618142",
          "Name:94 Bermondsey Street, London SE1 3UB Total Rev:7637386",
          "Name:41 Greville St Corner Leather Lane Clerkenwell, London EC1N 8PJ Total Rev:5884509",
          "Name:5-7, Bishopsgate Arcade, London EC2M 3YD Total Rev:5044970",
          "Name:37 Rue Sainte-Croix de la Bretonnerie, 75004 Paris Total Rev:6160386",
          "Name:Viktualienmarkt 15 · 80331 Munich Total Rev:7996613",
          "Name:Biblioteksgatan 5, 111 44, Stockholm Total Rev:7376669"
         ],
         "type": "scattergeo"
        }
       ],
       "layout": {
        "showlegend": false,
        "template": {
         "data": {
          "bar": [
           {
            "error_x": {
             "color": "#2a3f5f"
            },
            "error_y": {
             "color": "#2a3f5f"
            },
            "marker": {
             "line": {
              "color": "#E5ECF6",
              "width": 0.5
             },
             "pattern": {
              "fillmode": "overlay",
              "size": 10,
              "solidity": 0.2
             }
            },
            "type": "bar"
           }
          ],
          "barpolar": [
           {
            "marker": {
             "line": {
              "color": "#E5ECF6",
              "width": 0.5
             },
             "pattern": {
              "fillmode": "overlay",
              "size": 10,
              "solidity": 0.2
             }
            },
            "type": "barpolar"
           }
          ],
          "carpet": [
           {
            "aaxis": {
             "endlinecolor": "#2a3f5f",
             "gridcolor": "white",
             "linecolor": "white",
             "minorgridcolor": "white",
             "startlinecolor": "#2a3f5f"
            },
            "baxis": {
             "endlinecolor": "#2a3f5f",
             "gridcolor": "white",
             "linecolor": "white",
             "minorgridcolor": "white",
             "startlinecolor": "#2a3f5f"
            },
            "type": "carpet"
           }
          ],
          "choropleth": [
           {
            "colorbar": {
             "outlinewidth": 0,
             "ticks": ""
            },
            "type": "choropleth"
           }
          ],
          "contour": [
           {
            "colorbar": {
             "outlinewidth": 0,
             "ticks": ""
            },
            "colorscale": [
             [
              0,
              "#0d0887"
             ],
             [
              0.1111111111111111,
              "#46039f"
             ],
             [
              0.2222222222222222,
              "#7201a8"
             ],
             [
              0.3333333333333333,
              "#9c179e"
             ],
             [
              0.4444444444444444,
              "#bd3786"
             ],
             [
              0.5555555555555556,
              "#d8576b"
             ],
             [
              0.6666666666666666,
              "#ed7953"
             ],
             [
              0.7777777777777778,
              "#fb9f3a"
             ],
             [
              0.8888888888888888,
              "#fdca26"
             ],
             [
              1,
              "#f0f921"
             ]
            ],
            "type": "contour"
           }
          ],
          "contourcarpet": [
           {
            "colorbar": {
             "outlinewidth": 0,
             "ticks": ""
            },
            "type": "contourcarpet"
           }
          ],
          "heatmap": [
           {
            "colorbar": {
             "outlinewidth": 0,
             "ticks": ""
            },
            "colorscale": [
             [
              0,
              "#0d0887"
             ],
             [
              0.1111111111111111,
              "#46039f"
             ],
             [
              0.2222222222222222,
              "#7201a8"
             ],
             [
              0.3333333333333333,
              "#9c179e"
             ],
             [
              0.4444444444444444,
              "#bd3786"
             ],
             [
              0.5555555555555556,
              "#d8576b"
             ],
             [
              0.6666666666666666,
              "#ed7953"
             ],
             [
              0.7777777777777778,
              "#fb9f3a"
             ],
             [
              0.8888888888888888,
              "#fdca26"
             ],
             [
              1,
              "#f0f921"
             ]
            ],
            "type": "heatmap"
           }
          ],
          "heatmapgl": [
           {
            "colorbar": {
             "outlinewidth": 0,
             "ticks": ""
            },
            "colorscale": [
             [
              0,
              "#0d0887"
             ],
             [
              0.1111111111111111,
              "#46039f"
             ],
             [
              0.2222222222222222,
              "#7201a8"
             ],
             [
              0.3333333333333333,
              "#9c179e"
             ],
             [
              0.4444444444444444,
              "#bd3786"
             ],
             [
              0.5555555555555556,
              "#d8576b"
             ],
             [
              0.6666666666666666,
              "#ed7953"
             ],
             [
              0.7777777777777778,
              "#fb9f3a"
             ],
             [
              0.8888888888888888,
              "#fdca26"
             ],
             [
              1,
              "#f0f921"
             ]
            ],
            "type": "heatmapgl"
           }
          ],
          "histogram": [
           {
            "marker": {
             "pattern": {
              "fillmode": "overlay",
              "size": 10,
              "solidity": 0.2
             }
            },
            "type": "histogram"
           }
          ],
          "histogram2d": [
           {
            "colorbar": {
             "outlinewidth": 0,
             "ticks": ""
            },
            "colorscale": [
             [
              0,
              "#0d0887"
             ],
             [
              0.1111111111111111,
              "#46039f"
             ],
             [
              0.2222222222222222,
              "#7201a8"
             ],
             [
              0.3333333333333333,
              "#9c179e"
             ],
             [
              0.4444444444444444,
              "#bd3786"
             ],
             [
              0.5555555555555556,
              "#d8576b"
             ],
             [
              0.6666666666666666,
              "#ed7953"
             ],
             [
              0.7777777777777778,
              "#fb9f3a"
             ],
             [
              0.8888888888888888,
              "#fdca26"
             ],
             [
              1,
              "#f0f921"
             ]
            ],
            "type": "histogram2d"
           }
          ],
          "histogram2dcontour": [
           {
            "colorbar": {
             "outlinewidth": 0,
             "ticks": ""
            },
            "colorscale": [
             [
              0,
              "#0d0887"
             ],
             [
              0.1111111111111111,
              "#46039f"
             ],
             [
              0.2222222222222222,
              "#7201a8"
             ],
             [
              0.3333333333333333,
              "#9c179e"
             ],
             [
              0.4444444444444444,
              "#bd3786"
             ],
             [
              0.5555555555555556,
              "#d8576b"
             ],
             [
              0.6666666666666666,
              "#ed7953"
             ],
             [
              0.7777777777777778,
              "#fb9f3a"
             ],
             [
              0.8888888888888888,
              "#fdca26"
             ],
             [
              1,
              "#f0f921"
             ]
            ],
            "type": "histogram2dcontour"
           }
          ],
          "mesh3d": [
           {
            "colorbar": {
             "outlinewidth": 0,
             "ticks": ""
            },
            "type": "mesh3d"
           }
          ],
          "parcoords": [
           {
            "line": {
             "colorbar": {
              "outlinewidth": 0,
              "ticks": ""
             }
            },
            "type": "parcoords"
           }
          ],
          "pie": [
           {
            "automargin": true,
            "type": "pie"
           }
          ],
          "scatter": [
           {
            "fillpattern": {
             "fillmode": "overlay",
             "size": 10,
             "solidity": 0.2
            },
            "type": "scatter"
           }
          ],
          "scatter3d": [
           {
            "line": {
             "colorbar": {
              "outlinewidth": 0,
              "ticks": ""
             }
            },
            "marker": {
             "colorbar": {
              "outlinewidth": 0,
              "ticks": ""
             }
            },
            "type": "scatter3d"
           }
          ],
          "scattercarpet": [
           {
            "marker": {
             "colorbar": {
              "outlinewidth": 0,
              "ticks": ""
             }
            },
            "type": "scattercarpet"
           }
          ],
          "scattergeo": [
           {
            "marker": {
             "colorbar": {
              "outlinewidth": 0,
              "ticks": ""
             }
            },
            "type": "scattergeo"
           }
          ],
          "scattergl": [
           {
            "marker": {
             "colorbar": {
              "outlinewidth": 0,
              "ticks": ""
             }
            },
            "type": "scattergl"
           }
          ],
          "scattermapbox": [
           {
            "marker": {
             "colorbar": {
              "outlinewidth": 0,
              "ticks": ""
             }
            },
            "type": "scattermapbox"
           }
          ],
          "scatterpolar": [
           {
            "marker": {
             "colorbar": {
              "outlinewidth": 0,
              "ticks": ""
             }
            },
            "type": "scatterpolar"
           }
          ],
          "scatterpolargl": [
           {
            "marker": {
             "colorbar": {
              "outlinewidth": 0,
              "ticks": ""
             }
            },
            "type": "scatterpolargl"
           }
          ],
          "scatterternary": [
           {
            "marker": {
             "colorbar": {
              "outlinewidth": 0,
              "ticks": ""
             }
            },
            "type": "scatterternary"
           }
          ],
          "surface": [
           {
            "colorbar": {
             "outlinewidth": 0,
             "ticks": ""
            },
            "colorscale": [
             [
              0,
              "#0d0887"
             ],
             [
              0.1111111111111111,
              "#46039f"
             ],
             [
              0.2222222222222222,
              "#7201a8"
             ],
             [
              0.3333333333333333,
              "#9c179e"
             ],
             [
              0.4444444444444444,
              "#bd3786"
             ],
             [
              0.5555555555555556,
              "#d8576b"
             ],
             [
              0.6666666666666666,
              "#ed7953"
             ],
             [
              0.7777777777777778,
              "#fb9f3a"
             ],
             [
              0.8888888888888888,
              "#fdca26"
             ],
             [
              1,
              "#f0f921"
             ]
            ],
            "type": "surface"
           }
          ],
          "table": [
           {
            "cells": {
             "fill": {
              "color": "#EBF0F8"
             },
             "line": {
              "color": "white"
             }
            },
            "header": {
             "fill": {
              "color": "#C8D4E3"
             },
             "line": {
              "color": "white"
             }
            },
            "type": "table"
           }
          ]
         },
         "layout": {
          "annotationdefaults": {
           "arrowcolor": "#2a3f5f",
           "arrowhead": 0,
           "arrowwidth": 1
          },
          "autotypenumbers": "strict",
          "coloraxis": {
           "colorbar": {
            "outlinewidth": 0,
            "ticks": ""
           }
          },
          "colorscale": {
           "diverging": [
            [
             0,
             "#8e0152"
            ],
            [
             0.1,
             "#c51b7d"
            ],
            [
             0.2,
             "#de77ae"
            ],
            [
             0.3,
             "#f1b6da"
            ],
            [
             0.4,
             "#fde0ef"
            ],
            [
             0.5,
             "#f7f7f7"
            ],
            [
             0.6,
             "#e6f5d0"
            ],
            [
             0.7,
             "#b8e186"
            ],
            [
             0.8,
             "#7fbc41"
            ],
            [
             0.9,
             "#4d9221"
            ],
            [
             1,
             "#276419"
            ]
           ],
           "sequential": [
            [
             0,
             "#0d0887"
            ],
            [
             0.1111111111111111,
             "#46039f"
            ],
            [
             0.2222222222222222,
             "#7201a8"
            ],
            [
             0.3333333333333333,
             "#9c179e"
            ],
            [
             0.4444444444444444,
             "#bd3786"
            ],
            [
             0.5555555555555556,
             "#d8576b"
            ],
            [
             0.6666666666666666,
             "#ed7953"
            ],
            [
             0.7777777777777778,
             "#fb9f3a"
            ],
            [
             0.8888888888888888,
             "#fdca26"
            ],
            [
             1,
             "#f0f921"
            ]
           ],
           "sequentialminus": [
            [
             0,
             "#0d0887"
            ],
            [
             0.1111111111111111,
             "#46039f"
            ],
            [
             0.2222222222222222,
             "#7201a8"
            ],
            [
             0.3333333333333333,
             "#9c179e"
            ],
            [
             0.4444444444444444,
             "#bd3786"
            ],
            [
             0.5555555555555556,
             "#d8576b"
            ],
            [
             0.6666666666666666,
             "#ed7953"
            ],
            [
             0.7777777777777778,
             "#fb9f3a"
            ],
            [
             0.8888888888888888,
             "#fdca26"
            ],
            [
             1,
             "#f0f921"
            ]
           ]
          },
          "colorway": [
           "#636efa",
           "#EF553B",
           "#00cc96",
           "#ab63fa",
           "#FFA15A",
           "#19d3f3",
           "#FF6692",
           "#B6E880",
           "#FF97FF",
           "#FECB52"
          ],
          "font": {
           "color": "#2a3f5f"
          },
          "geo": {
           "bgcolor": "white",
           "lakecolor": "white",
           "landcolor": "#E5ECF6",
           "showlakes": true,
           "showland": true,
           "subunitcolor": "white"
          },
          "hoverlabel": {
           "align": "left"
          },
          "hovermode": "closest",
          "mapbox": {
           "style": "light"
          },
          "paper_bgcolor": "white",
          "plot_bgcolor": "#E5ECF6",
          "polar": {
           "angularaxis": {
            "gridcolor": "white",
            "linecolor": "white",
            "ticks": ""
           },
           "bgcolor": "#E5ECF6",
           "radialaxis": {
            "gridcolor": "white",
            "linecolor": "white",
            "ticks": ""
           }
          },
          "scene": {
           "xaxis": {
            "backgroundcolor": "#E5ECF6",
            "gridcolor": "white",
            "gridwidth": 2,
            "linecolor": "white",
            "showbackground": true,
            "ticks": "",
            "zerolinecolor": "white"
           },
           "yaxis": {
            "backgroundcolor": "#E5ECF6",
            "gridcolor": "white",
            "gridwidth": 2,
            "linecolor": "white",
            "showbackground": true,
            "ticks": "",
            "zerolinecolor": "white"
           },
           "zaxis": {
            "backgroundcolor": "#E5ECF6",
            "gridcolor": "white",
            "gridwidth": 2,
            "linecolor": "white",
            "showbackground": true,
            "ticks": "",
            "zerolinecolor": "white"
           }
          },
          "shapedefaults": {
           "line": {
            "color": "#2a3f5f"
           }
          },
          "ternary": {
           "aaxis": {
            "gridcolor": "white",
            "linecolor": "white",
            "ticks": ""
           },
           "baxis": {
            "gridcolor": "white",
            "linecolor": "white",
            "ticks": ""
           },
           "bgcolor": "#E5ECF6",
           "caxis": {
            "gridcolor": "white",
            "linecolor": "white",
            "ticks": ""
           }
          },
          "title": {
           "x": 0.05
          },
          "xaxis": {
           "automargin": true,
           "gridcolor": "white",
           "linecolor": "white",
           "ticks": "",
           "title": {
            "standoff": 15
           },
           "zerolinecolor": "white",
           "zerolinewidth": 2
          },
          "yaxis": {
           "automargin": true,
           "gridcolor": "white",
           "linecolor": "white",
           "ticks": "",
           "title": {
            "standoff": 15
           },
           "zerolinecolor": "white",
           "zerolinewidth": 2
          }
         }
        },
        "title": {
         "text": "2023 Locations of Eatalys in World"
        }
       }
      }
     },
     "metadata": {},
     "output_type": "display_data"
    }
   ],
   "source": [
    "#create \"text\" column to be able to see info better on graph\n",
    "df['text'] = 'Name:' + df['Store'] + ' Total Rev:' + df['Rev (annonymized)'].astype(str)\n",
    "\n",
    "# Primary visual of all the \"Chipotle Buyers\"\n",
    "fig = go.Figure(data=go.Scattergeo(lon=df['Long'],\n",
    "                                  lat=df['Lat'],\n",
    "                                  text=df['text'],\n",
    "                                  mode='markers'))\n",
    "\n",
    "fig.update_layout(\n",
    "        title_text = '2023 Locations of Eatalys in World',\n",
    "        showlegend = False)\n",
    "\n",
    "fig.show()"
   ]
  },
  {
   "cell_type": "markdown",
   "metadata": {},
   "source": [
    "# Data Prep: Round 2\n",
    "## Feature Selections/Reduction"
   ]
  },
  {
   "cell_type": "code",
   "execution_count": 6,
   "metadata": {},
   "outputs": [
    {
     "data": {
      "text/html": [
       "<div>\n",
       "<style scoped>\n",
       "    .dataframe tbody tr th:only-of-type {\n",
       "        vertical-align: middle;\n",
       "    }\n",
       "\n",
       "    .dataframe tbody tr th {\n",
       "        vertical-align: top;\n",
       "    }\n",
       "\n",
       "    .dataframe thead th {\n",
       "        text-align: right;\n",
       "    }\n",
       "</style>\n",
       "<table border=\"1\" class=\"dataframe\">\n",
       "  <thead>\n",
       "    <tr style=\"text-align: right;\">\n",
       "      <th></th>\n",
       "      <th>Long</th>\n",
       "      <th>Lat</th>\n",
       "    </tr>\n",
       "  </thead>\n",
       "  <tbody>\n",
       "    <tr>\n",
       "      <th>0</th>\n",
       "      <td>9.185924</td>\n",
       "      <td>45.480546</td>\n",
       "    </tr>\n",
       "    <tr>\n",
       "      <th>1</th>\n",
       "      <td>7.675395</td>\n",
       "      <td>45.040852</td>\n",
       "    </tr>\n",
       "    <tr>\n",
       "      <th>2</th>\n",
       "      <td>12.479535</td>\n",
       "      <td>41.875706</td>\n",
       "    </tr>\n",
       "    <tr>\n",
       "      <th>3</th>\n",
       "      <td>10.993312</td>\n",
       "      <td>45.419600</td>\n",
       "    </tr>\n",
       "    <tr>\n",
       "      <th>4</th>\n",
       "      <td>8.928206</td>\n",
       "      <td>44.409225</td>\n",
       "    </tr>\n",
       "  </tbody>\n",
       "</table>\n",
       "</div>"
      ],
      "text/plain": [
       "        Long        Lat\n",
       "0   9.185924  45.480546\n",
       "1   7.675395  45.040852\n",
       "2  12.479535  41.875706\n",
       "3  10.993312  45.419600\n",
       "4   8.928206  44.409225"
      ]
     },
     "execution_count": 6,
     "metadata": {},
     "output_type": "execute_result"
    }
   ],
   "source": [
    "df_locations = df[['Long', 'Lat']]\n",
    "df_locations.head()"
   ]
  },
  {
   "cell_type": "markdown",
   "metadata": {},
   "source": [
    "# Clustering using KMeans & Sci-Kit Learn"
   ]
  },
  {
   "cell_type": "code",
   "execution_count": 13,
   "metadata": {},
   "outputs": [
    {
     "name": "stdout",
     "output_type": "stream",
     "text": [
      "[[-0.94648366 40.10803862]]\n"
     ]
    },
    {
     "data": {
      "text/html": [
       "<div>\n",
       "<style scoped>\n",
       "    .dataframe tbody tr th:only-of-type {\n",
       "        vertical-align: middle;\n",
       "    }\n",
       "\n",
       "    .dataframe tbody tr th {\n",
       "        vertical-align: top;\n",
       "    }\n",
       "\n",
       "    .dataframe thead th {\n",
       "        text-align: right;\n",
       "    }\n",
       "</style>\n",
       "<table border=\"1\" class=\"dataframe\">\n",
       "  <thead>\n",
       "    <tr style=\"text-align: right;\">\n",
       "      <th></th>\n",
       "      <th>Long</th>\n",
       "      <th>Lat</th>\n",
       "    </tr>\n",
       "  </thead>\n",
       "  <tbody>\n",
       "    <tr>\n",
       "      <th>0</th>\n",
       "      <td>-0.946484</td>\n",
       "      <td>40.108039</td>\n",
       "    </tr>\n",
       "  </tbody>\n",
       "</table>\n",
       "</div>"
      ],
      "text/plain": [
       "       Long        Lat\n",
       "0 -0.946484  40.108039"
      ]
     },
     "execution_count": 13,
     "metadata": {},
     "output_type": "execute_result"
    }
   ],
   "source": [
    "#takes parameters\n",
    "num_clusters = 1\n",
    "\n",
    "kmeans = KMeans(n_clusters=num_clusters)\n",
    "\n",
    "#begins fitting/training and testing\n",
    "kmeans.fit(df_locations)\n",
    "kmeans_predictions = kmeans.predict(df_locations)\n",
    "\n",
    "#retrieve K amount of cluster centers and store in a DF\n",
    "print(kmeans.cluster_centers_)\n",
    "numpy_data = kmeans.cluster_centers_\n",
    "cluster_dfs = pd.DataFrame(data=numpy_data, columns=[\"Long\", 'Lat'])\n",
    "cluster_dfs.head()"
   ]
  },
  {
   "cell_type": "markdown",
   "metadata": {},
   "source": [
    "# Cluster Visualization\n",
    "## \"Ideal locations for my chipotle\""
   ]
  },
  {
   "cell_type": "code",
   "execution_count": 15,
   "metadata": {},
   "outputs": [
    {
     "data": {
      "application/vnd.plotly.v1+json": {
       "config": {
        "plotlyServerURL": "https://plot.ly"
       },
       "data": [
        {
         "lat": [
          40.108038615384615
         ],
         "lon": [
          -0.9464836615384603
         ],
         "marker": {
          "autocolorscale": false,
          "line": {
           "color": "rgba(102, 102, 102)",
           "width": 1
          },
          "opacity": 1,
          "reversescale": true,
          "size": 14,
          "symbol": "square"
         },
         "mode": "markers",
         "type": "scattergeo"
        }
       ],
       "layout": {
        "showlegend": true,
        "template": {
         "data": {
          "bar": [
           {
            "error_x": {
             "color": "#2a3f5f"
            },
            "error_y": {
             "color": "#2a3f5f"
            },
            "marker": {
             "line": {
              "color": "#E5ECF6",
              "width": 0.5
             },
             "pattern": {
              "fillmode": "overlay",
              "size": 10,
              "solidity": 0.2
             }
            },
            "type": "bar"
           }
          ],
          "barpolar": [
           {
            "marker": {
             "line": {
              "color": "#E5ECF6",
              "width": 0.5
             },
             "pattern": {
              "fillmode": "overlay",
              "size": 10,
              "solidity": 0.2
             }
            },
            "type": "barpolar"
           }
          ],
          "carpet": [
           {
            "aaxis": {
             "endlinecolor": "#2a3f5f",
             "gridcolor": "white",
             "linecolor": "white",
             "minorgridcolor": "white",
             "startlinecolor": "#2a3f5f"
            },
            "baxis": {
             "endlinecolor": "#2a3f5f",
             "gridcolor": "white",
             "linecolor": "white",
             "minorgridcolor": "white",
             "startlinecolor": "#2a3f5f"
            },
            "type": "carpet"
           }
          ],
          "choropleth": [
           {
            "colorbar": {
             "outlinewidth": 0,
             "ticks": ""
            },
            "type": "choropleth"
           }
          ],
          "contour": [
           {
            "colorbar": {
             "outlinewidth": 0,
             "ticks": ""
            },
            "colorscale": [
             [
              0,
              "#0d0887"
             ],
             [
              0.1111111111111111,
              "#46039f"
             ],
             [
              0.2222222222222222,
              "#7201a8"
             ],
             [
              0.3333333333333333,
              "#9c179e"
             ],
             [
              0.4444444444444444,
              "#bd3786"
             ],
             [
              0.5555555555555556,
              "#d8576b"
             ],
             [
              0.6666666666666666,
              "#ed7953"
             ],
             [
              0.7777777777777778,
              "#fb9f3a"
             ],
             [
              0.8888888888888888,
              "#fdca26"
             ],
             [
              1,
              "#f0f921"
             ]
            ],
            "type": "contour"
           }
          ],
          "contourcarpet": [
           {
            "colorbar": {
             "outlinewidth": 0,
             "ticks": ""
            },
            "type": "contourcarpet"
           }
          ],
          "heatmap": [
           {
            "colorbar": {
             "outlinewidth": 0,
             "ticks": ""
            },
            "colorscale": [
             [
              0,
              "#0d0887"
             ],
             [
              0.1111111111111111,
              "#46039f"
             ],
             [
              0.2222222222222222,
              "#7201a8"
             ],
             [
              0.3333333333333333,
              "#9c179e"
             ],
             [
              0.4444444444444444,
              "#bd3786"
             ],
             [
              0.5555555555555556,
              "#d8576b"
             ],
             [
              0.6666666666666666,
              "#ed7953"
             ],
             [
              0.7777777777777778,
              "#fb9f3a"
             ],
             [
              0.8888888888888888,
              "#fdca26"
             ],
             [
              1,
              "#f0f921"
             ]
            ],
            "type": "heatmap"
           }
          ],
          "heatmapgl": [
           {
            "colorbar": {
             "outlinewidth": 0,
             "ticks": ""
            },
            "colorscale": [
             [
              0,
              "#0d0887"
             ],
             [
              0.1111111111111111,
              "#46039f"
             ],
             [
              0.2222222222222222,
              "#7201a8"
             ],
             [
              0.3333333333333333,
              "#9c179e"
             ],
             [
              0.4444444444444444,
              "#bd3786"
             ],
             [
              0.5555555555555556,
              "#d8576b"
             ],
             [
              0.6666666666666666,
              "#ed7953"
             ],
             [
              0.7777777777777778,
              "#fb9f3a"
             ],
             [
              0.8888888888888888,
              "#fdca26"
             ],
             [
              1,
              "#f0f921"
             ]
            ],
            "type": "heatmapgl"
           }
          ],
          "histogram": [
           {
            "marker": {
             "pattern": {
              "fillmode": "overlay",
              "size": 10,
              "solidity": 0.2
             }
            },
            "type": "histogram"
           }
          ],
          "histogram2d": [
           {
            "colorbar": {
             "outlinewidth": 0,
             "ticks": ""
            },
            "colorscale": [
             [
              0,
              "#0d0887"
             ],
             [
              0.1111111111111111,
              "#46039f"
             ],
             [
              0.2222222222222222,
              "#7201a8"
             ],
             [
              0.3333333333333333,
              "#9c179e"
             ],
             [
              0.4444444444444444,
              "#bd3786"
             ],
             [
              0.5555555555555556,
              "#d8576b"
             ],
             [
              0.6666666666666666,
              "#ed7953"
             ],
             [
              0.7777777777777778,
              "#fb9f3a"
             ],
             [
              0.8888888888888888,
              "#fdca26"
             ],
             [
              1,
              "#f0f921"
             ]
            ],
            "type": "histogram2d"
           }
          ],
          "histogram2dcontour": [
           {
            "colorbar": {
             "outlinewidth": 0,
             "ticks": ""
            },
            "colorscale": [
             [
              0,
              "#0d0887"
             ],
             [
              0.1111111111111111,
              "#46039f"
             ],
             [
              0.2222222222222222,
              "#7201a8"
             ],
             [
              0.3333333333333333,
              "#9c179e"
             ],
             [
              0.4444444444444444,
              "#bd3786"
             ],
             [
              0.5555555555555556,
              "#d8576b"
             ],
             [
              0.6666666666666666,
              "#ed7953"
             ],
             [
              0.7777777777777778,
              "#fb9f3a"
             ],
             [
              0.8888888888888888,
              "#fdca26"
             ],
             [
              1,
              "#f0f921"
             ]
            ],
            "type": "histogram2dcontour"
           }
          ],
          "mesh3d": [
           {
            "colorbar": {
             "outlinewidth": 0,
             "ticks": ""
            },
            "type": "mesh3d"
           }
          ],
          "parcoords": [
           {
            "line": {
             "colorbar": {
              "outlinewidth": 0,
              "ticks": ""
             }
            },
            "type": "parcoords"
           }
          ],
          "pie": [
           {
            "automargin": true,
            "type": "pie"
           }
          ],
          "scatter": [
           {
            "fillpattern": {
             "fillmode": "overlay",
             "size": 10,
             "solidity": 0.2
            },
            "type": "scatter"
           }
          ],
          "scatter3d": [
           {
            "line": {
             "colorbar": {
              "outlinewidth": 0,
              "ticks": ""
             }
            },
            "marker": {
             "colorbar": {
              "outlinewidth": 0,
              "ticks": ""
             }
            },
            "type": "scatter3d"
           }
          ],
          "scattercarpet": [
           {
            "marker": {
             "colorbar": {
              "outlinewidth": 0,
              "ticks": ""
             }
            },
            "type": "scattercarpet"
           }
          ],
          "scattergeo": [
           {
            "marker": {
             "colorbar": {
              "outlinewidth": 0,
              "ticks": ""
             }
            },
            "type": "scattergeo"
           }
          ],
          "scattergl": [
           {
            "marker": {
             "colorbar": {
              "outlinewidth": 0,
              "ticks": ""
             }
            },
            "type": "scattergl"
           }
          ],
          "scattermapbox": [
           {
            "marker": {
             "colorbar": {
              "outlinewidth": 0,
              "ticks": ""
             }
            },
            "type": "scattermapbox"
           }
          ],
          "scatterpolar": [
           {
            "marker": {
             "colorbar": {
              "outlinewidth": 0,
              "ticks": ""
             }
            },
            "type": "scatterpolar"
           }
          ],
          "scatterpolargl": [
           {
            "marker": {
             "colorbar": {
              "outlinewidth": 0,
              "ticks": ""
             }
            },
            "type": "scatterpolargl"
           }
          ],
          "scatterternary": [
           {
            "marker": {
             "colorbar": {
              "outlinewidth": 0,
              "ticks": ""
             }
            },
            "type": "scatterternary"
           }
          ],
          "surface": [
           {
            "colorbar": {
             "outlinewidth": 0,
             "ticks": ""
            },
            "colorscale": [
             [
              0,
              "#0d0887"
             ],
             [
              0.1111111111111111,
              "#46039f"
             ],
             [
              0.2222222222222222,
              "#7201a8"
             ],
             [
              0.3333333333333333,
              "#9c179e"
             ],
             [
              0.4444444444444444,
              "#bd3786"
             ],
             [
              0.5555555555555556,
              "#d8576b"
             ],
             [
              0.6666666666666666,
              "#ed7953"
             ],
             [
              0.7777777777777778,
              "#fb9f3a"
             ],
             [
              0.8888888888888888,
              "#fdca26"
             ],
             [
              1,
              "#f0f921"
             ]
            ],
            "type": "surface"
           }
          ],
          "table": [
           {
            "cells": {
             "fill": {
              "color": "#EBF0F8"
             },
             "line": {
              "color": "white"
             }
            },
            "header": {
             "fill": {
              "color": "#C8D4E3"
             },
             "line": {
              "color": "white"
             }
            },
            "type": "table"
           }
          ]
         },
         "layout": {
          "annotationdefaults": {
           "arrowcolor": "#2a3f5f",
           "arrowhead": 0,
           "arrowwidth": 1
          },
          "autotypenumbers": "strict",
          "coloraxis": {
           "colorbar": {
            "outlinewidth": 0,
            "ticks": ""
           }
          },
          "colorscale": {
           "diverging": [
            [
             0,
             "#8e0152"
            ],
            [
             0.1,
             "#c51b7d"
            ],
            [
             0.2,
             "#de77ae"
            ],
            [
             0.3,
             "#f1b6da"
            ],
            [
             0.4,
             "#fde0ef"
            ],
            [
             0.5,
             "#f7f7f7"
            ],
            [
             0.6,
             "#e6f5d0"
            ],
            [
             0.7,
             "#b8e186"
            ],
            [
             0.8,
             "#7fbc41"
            ],
            [
             0.9,
             "#4d9221"
            ],
            [
             1,
             "#276419"
            ]
           ],
           "sequential": [
            [
             0,
             "#0d0887"
            ],
            [
             0.1111111111111111,
             "#46039f"
            ],
            [
             0.2222222222222222,
             "#7201a8"
            ],
            [
             0.3333333333333333,
             "#9c179e"
            ],
            [
             0.4444444444444444,
             "#bd3786"
            ],
            [
             0.5555555555555556,
             "#d8576b"
            ],
            [
             0.6666666666666666,
             "#ed7953"
            ],
            [
             0.7777777777777778,
             "#fb9f3a"
            ],
            [
             0.8888888888888888,
             "#fdca26"
            ],
            [
             1,
             "#f0f921"
            ]
           ],
           "sequentialminus": [
            [
             0,
             "#0d0887"
            ],
            [
             0.1111111111111111,
             "#46039f"
            ],
            [
             0.2222222222222222,
             "#7201a8"
            ],
            [
             0.3333333333333333,
             "#9c179e"
            ],
            [
             0.4444444444444444,
             "#bd3786"
            ],
            [
             0.5555555555555556,
             "#d8576b"
            ],
            [
             0.6666666666666666,
             "#ed7953"
            ],
            [
             0.7777777777777778,
             "#fb9f3a"
            ],
            [
             0.8888888888888888,
             "#fdca26"
            ],
            [
             1,
             "#f0f921"
            ]
           ]
          },
          "colorway": [
           "#636efa",
           "#EF553B",
           "#00cc96",
           "#ab63fa",
           "#FFA15A",
           "#19d3f3",
           "#FF6692",
           "#B6E880",
           "#FF97FF",
           "#FECB52"
          ],
          "font": {
           "color": "#2a3f5f"
          },
          "geo": {
           "bgcolor": "white",
           "lakecolor": "white",
           "landcolor": "#E5ECF6",
           "showlakes": true,
           "showland": true,
           "subunitcolor": "white"
          },
          "hoverlabel": {
           "align": "left"
          },
          "hovermode": "closest",
          "mapbox": {
           "style": "light"
          },
          "paper_bgcolor": "white",
          "plot_bgcolor": "#E5ECF6",
          "polar": {
           "angularaxis": {
            "gridcolor": "white",
            "linecolor": "white",
            "ticks": ""
           },
           "bgcolor": "#E5ECF6",
           "radialaxis": {
            "gridcolor": "white",
            "linecolor": "white",
            "ticks": ""
           }
          },
          "scene": {
           "xaxis": {
            "backgroundcolor": "#E5ECF6",
            "gridcolor": "white",
            "gridwidth": 2,
            "linecolor": "white",
            "showbackground": true,
            "ticks": "",
            "zerolinecolor": "white"
           },
           "yaxis": {
            "backgroundcolor": "#E5ECF6",
            "gridcolor": "white",
            "gridwidth": 2,
            "linecolor": "white",
            "showbackground": true,
            "ticks": "",
            "zerolinecolor": "white"
           },
           "zaxis": {
            "backgroundcolor": "#E5ECF6",
            "gridcolor": "white",
            "gridwidth": 2,
            "linecolor": "white",
            "showbackground": true,
            "ticks": "",
            "zerolinecolor": "white"
           }
          },
          "shapedefaults": {
           "line": {
            "color": "#2a3f5f"
           }
          },
          "ternary": {
           "aaxis": {
            "gridcolor": "white",
            "linecolor": "white",
            "ticks": ""
           },
           "baxis": {
            "gridcolor": "white",
            "linecolor": "white",
            "ticks": ""
           },
           "bgcolor": "#E5ECF6",
           "caxis": {
            "gridcolor": "white",
            "linecolor": "white",
            "ticks": ""
           }
          },
          "title": {
           "x": 0.05
          },
          "xaxis": {
           "automargin": true,
           "gridcolor": "white",
           "linecolor": "white",
           "ticks": "",
           "title": {
            "standoff": 15
           },
           "zerolinecolor": "white",
           "zerolinewidth": 2
          },
          "yaxis": {
           "automargin": true,
           "gridcolor": "white",
           "linecolor": "white",
           "ticks": "",
           "title": {
            "standoff": 15
           },
           "zerolinecolor": "white",
           "zerolinewidth": 2
          }
         }
        },
        "title": {
         "text": "Eataly Ideal Location for 2023"
        }
       }
      }
     },
     "metadata": {},
     "output_type": "display_data"
    }
   ],
   "source": [
    "fig2 = go.Figure(data=go.Scattergeo(lon=cluster_dfs['Long'],\n",
    "                             lat=cluster_dfs['Lat'],\n",
    "                             mode='markers',\n",
    "                             marker = dict(\n",
    "                                size = 14,\n",
    "                                opacity = 1,\n",
    "                                reversescale = True,\n",
    "                                autocolorscale = False,\n",
    "                                symbol = 'square',\n",
    "                                line = dict(width=1,\n",
    "                                            color='rgba(102, 102, 102)'))))\n",
    "fig2.update_layout(\n",
    "        title_text = 'Eataly Ideal Location for 2023',\n",
    "        showlegend = True)\n",
    "fig2.show()"
   ]
  },
  {
   "cell_type": "markdown",
   "metadata": {},
   "source": [
    "# Combined Visualization"
   ]
  },
  {
   "cell_type": "code",
   "execution_count": 19,
   "metadata": {},
   "outputs": [
    {
     "data": {
      "application/vnd.plotly.v1+json": {
       "config": {
        "plotlyServerURL": "https://plot.ly"
       },
       "data": [
        {
         "lat": [
          40.108038615384615
         ],
         "lon": [
          -0.9464836615384603
         ],
         "marker": {
          "autocolorscale": false,
          "line": {
           "color": "rgba(102, 102, 102)",
           "width": 1
          },
          "opacity": 1,
          "reversescale": true,
          "size": 14,
          "symbol": "square"
         },
         "mode": "markers",
         "name": "Proposed Location(s)",
         "type": "scattergeo"
        },
        {
         "lat": [
          45.480546,
          45.040852,
          41.875706,
          45.4196,
          44.409225,
          45.650033,
          45.052237,
          43.776558,
          44.494887,
          45.068885,
          44.700414,
          44.885526,
          40.741987,
          40.710642,
          40.723298,
          41.892321,
          42.348545,
          34.059145,
          36.102752,
          32.868099,
          37.32552,
          43.669807,
          43.610524,
          -23.586974,
          25.197197,
          25.079406,
          25.115224,
          35.681391,
          35.686512,
          35.685175,
          35.669487,
          37.394359,
          51.518643,
          51.49816,
          51.519444,
          51.518249,
          48.858837,
          48.135125,
          59.336162
         ],
         "lon": [
          9.185924,
          7.675395,
          12.479535,
          10.993312,
          8.928206,
          13.768136,
          9.692633,
          11.255813,
          11.3426162,
          7.682489,
          7.854073,
          7.349512,
          -73.98966,
          -74.012385,
          -73.996994,
          -87.626953,
          -71.082768,
          -118.418431,
          -115.174557,
          -96.773654,
          -121.945154,
          -79.388499,
          -79.557252,
          -46.684289,
          55.279261,
          55.134569,
          55.273228,
          139.766103,
          139.773243,
          139.774055,
          139.761711,
          127.111213,
          -0.081068,
          -0.08003,
          -0.108033,
          -0.081411,
          2.358328,
          11.576124,
          18.072796
         ],
         "marker": {
          "autocolorscale": false,
          "line": {
           "color": "rgba(255, 255, 255)",
           "width": 1
          },
          "opacity": 0.7,
          "reversescale": true,
          "size": 4
         },
         "mode": "markers",
         "name": "Current Locations",
         "opacity": 1,
         "text": [
          "Name:Piazza XXV Aprile 10, 20121 Milano Total Rev:5119110",
          "Name:Via Ermanno Fenoglietti, 14, 10126 Turin - Metro Spezia Total Rev:7454667",
          "Name:Piazzale XII Ottobre 1492, 00154 Rome Total Rev:6293900",
          "Name:Via Santa Teresa 12, 37135 Verona Total Rev:5686253",
          "Name:Edificio Millo Porto Antico, Calata Cattaneo 15, 16128 Genova Total Rev:7239911",
          "Name:Riva Tommaso Gulli 1, 34123 Trieste Total Rev:6583639",
          "Name:Stradone Farnese 39, 29121 Piacenza Total Rev:5247594",
          "Name:Via De Martelli 22 R, 50129 Florence Total Rev:5345082",
          "Name:Via Degli Orefici 19, 40124 Bologna Total Rev:6079383",
          "Name:Via Lagrange 3, 10123 Turin Total Rev:7029041",
          "Name:Strada Statale 231 Alba-Bra, Zona Industriale 2, 12066 Monticello (CN) Total Rev:5327691",
          "Name:Via Poirino 104, 10064 Pinerolo (TO) Total Rev:6566063",
          "Name:200 Fifth Avenue, New York, NY 10010 Total Rev:5745529",
          "Name:4 World Trade Center, 101 Liberty Street, New York, NY Total Rev:6308636",
          "Name:200 Lafayette St, New York, NY 10012 Total Rev:7031548",
          "Name:43 East Ohio Street, Chicago, IL 60611 Total Rev:5694374",
          "Name:Prudential Center, 800 Boylston Street, Boston, MA Total Rev:5914264",
          "Name:10250 Santa Monica Blvd., Los Angeles, CA Total Rev:5715638",
          "Name:Park MGM, 3770 S Las Vegas Blvd, Las Vegas, NV Total Rev:7179275",
          "Name:NorthPark Center, 8687 N. Central Expy, Dallas, TX Total Rev:5528122",
          "Name:2855 Stevens Creek Blvd., San Jose, CA Total Rev:7326274",
          "Name:Manulife Centre, 55 Bloor Street West, Toronto, ON Total Rev:7991827",
          "Name:25 The West Mall, Toronto, ON Total Rev:6808928",
          "Name:Av. Pres.Juscelino Kubitschek, 1489 - São Paulo Total Rev:5566872",
          "Name:Dubai Mall, Downtown Dubai, Dubai Total Rev:6201653",
          "Name:Jumeirah Beach Residence, Dubai Total Rev:6927349",
          "Name:Dubai Hills Estate, Dubai Total Rev:7726236",
          "Name:100-0005 Marunouchi 1-9-1, B1F JR East Tokyo Station Total Rev:5599293",
          "Name:東京都中央区日本橋室町1丁目3-10 Total Rev:5353212",
          "Name:〒103-8001 東京都中央区日本橋室町1丁目4-1 Total Rev:6861200",
          "Name:〒104-0061 東京都中央区銀座6丁目10-1 Total Rev:5334933",
          "Name:Seongnam 20, Pangyoyeok-ro 146beon-gil, Bundang-gu, B1, Hyundai Department Store Total Rev:6101414",
          "Name:135 Bishopsgate, London EC2M 3YD Total Rev:6618142",
          "Name:94 Bermondsey Street, London SE1 3UB Total Rev:7637386",
          "Name:41 Greville St Corner Leather Lane Clerkenwell, London EC1N 8PJ Total Rev:5884509",
          "Name:5-7, Bishopsgate Arcade, London EC2M 3YD Total Rev:5044970",
          "Name:37 Rue Sainte-Croix de la Bretonnerie, 75004 Paris Total Rev:6160386",
          "Name:Viktualienmarkt 15 · 80331 Munich Total Rev:7996613",
          "Name:Biblioteksgatan 5, 111 44, Stockholm Total Rev:7376669"
         ],
         "type": "scattergeo"
        }
       ],
       "layout": {
        "showlegend": true,
        "template": {
         "data": {
          "bar": [
           {
            "error_x": {
             "color": "#2a3f5f"
            },
            "error_y": {
             "color": "#2a3f5f"
            },
            "marker": {
             "line": {
              "color": "#E5ECF6",
              "width": 0.5
             },
             "pattern": {
              "fillmode": "overlay",
              "size": 10,
              "solidity": 0.2
             }
            },
            "type": "bar"
           }
          ],
          "barpolar": [
           {
            "marker": {
             "line": {
              "color": "#E5ECF6",
              "width": 0.5
             },
             "pattern": {
              "fillmode": "overlay",
              "size": 10,
              "solidity": 0.2
             }
            },
            "type": "barpolar"
           }
          ],
          "carpet": [
           {
            "aaxis": {
             "endlinecolor": "#2a3f5f",
             "gridcolor": "white",
             "linecolor": "white",
             "minorgridcolor": "white",
             "startlinecolor": "#2a3f5f"
            },
            "baxis": {
             "endlinecolor": "#2a3f5f",
             "gridcolor": "white",
             "linecolor": "white",
             "minorgridcolor": "white",
             "startlinecolor": "#2a3f5f"
            },
            "type": "carpet"
           }
          ],
          "choropleth": [
           {
            "colorbar": {
             "outlinewidth": 0,
             "ticks": ""
            },
            "type": "choropleth"
           }
          ],
          "contour": [
           {
            "colorbar": {
             "outlinewidth": 0,
             "ticks": ""
            },
            "colorscale": [
             [
              0,
              "#0d0887"
             ],
             [
              0.1111111111111111,
              "#46039f"
             ],
             [
              0.2222222222222222,
              "#7201a8"
             ],
             [
              0.3333333333333333,
              "#9c179e"
             ],
             [
              0.4444444444444444,
              "#bd3786"
             ],
             [
              0.5555555555555556,
              "#d8576b"
             ],
             [
              0.6666666666666666,
              "#ed7953"
             ],
             [
              0.7777777777777778,
              "#fb9f3a"
             ],
             [
              0.8888888888888888,
              "#fdca26"
             ],
             [
              1,
              "#f0f921"
             ]
            ],
            "type": "contour"
           }
          ],
          "contourcarpet": [
           {
            "colorbar": {
             "outlinewidth": 0,
             "ticks": ""
            },
            "type": "contourcarpet"
           }
          ],
          "heatmap": [
           {
            "colorbar": {
             "outlinewidth": 0,
             "ticks": ""
            },
            "colorscale": [
             [
              0,
              "#0d0887"
             ],
             [
              0.1111111111111111,
              "#46039f"
             ],
             [
              0.2222222222222222,
              "#7201a8"
             ],
             [
              0.3333333333333333,
              "#9c179e"
             ],
             [
              0.4444444444444444,
              "#bd3786"
             ],
             [
              0.5555555555555556,
              "#d8576b"
             ],
             [
              0.6666666666666666,
              "#ed7953"
             ],
             [
              0.7777777777777778,
              "#fb9f3a"
             ],
             [
              0.8888888888888888,
              "#fdca26"
             ],
             [
              1,
              "#f0f921"
             ]
            ],
            "type": "heatmap"
           }
          ],
          "heatmapgl": [
           {
            "colorbar": {
             "outlinewidth": 0,
             "ticks": ""
            },
            "colorscale": [
             [
              0,
              "#0d0887"
             ],
             [
              0.1111111111111111,
              "#46039f"
             ],
             [
              0.2222222222222222,
              "#7201a8"
             ],
             [
              0.3333333333333333,
              "#9c179e"
             ],
             [
              0.4444444444444444,
              "#bd3786"
             ],
             [
              0.5555555555555556,
              "#d8576b"
             ],
             [
              0.6666666666666666,
              "#ed7953"
             ],
             [
              0.7777777777777778,
              "#fb9f3a"
             ],
             [
              0.8888888888888888,
              "#fdca26"
             ],
             [
              1,
              "#f0f921"
             ]
            ],
            "type": "heatmapgl"
           }
          ],
          "histogram": [
           {
            "marker": {
             "pattern": {
              "fillmode": "overlay",
              "size": 10,
              "solidity": 0.2
             }
            },
            "type": "histogram"
           }
          ],
          "histogram2d": [
           {
            "colorbar": {
             "outlinewidth": 0,
             "ticks": ""
            },
            "colorscale": [
             [
              0,
              "#0d0887"
             ],
             [
              0.1111111111111111,
              "#46039f"
             ],
             [
              0.2222222222222222,
              "#7201a8"
             ],
             [
              0.3333333333333333,
              "#9c179e"
             ],
             [
              0.4444444444444444,
              "#bd3786"
             ],
             [
              0.5555555555555556,
              "#d8576b"
             ],
             [
              0.6666666666666666,
              "#ed7953"
             ],
             [
              0.7777777777777778,
              "#fb9f3a"
             ],
             [
              0.8888888888888888,
              "#fdca26"
             ],
             [
              1,
              "#f0f921"
             ]
            ],
            "type": "histogram2d"
           }
          ],
          "histogram2dcontour": [
           {
            "colorbar": {
             "outlinewidth": 0,
             "ticks": ""
            },
            "colorscale": [
             [
              0,
              "#0d0887"
             ],
             [
              0.1111111111111111,
              "#46039f"
             ],
             [
              0.2222222222222222,
              "#7201a8"
             ],
             [
              0.3333333333333333,
              "#9c179e"
             ],
             [
              0.4444444444444444,
              "#bd3786"
             ],
             [
              0.5555555555555556,
              "#d8576b"
             ],
             [
              0.6666666666666666,
              "#ed7953"
             ],
             [
              0.7777777777777778,
              "#fb9f3a"
             ],
             [
              0.8888888888888888,
              "#fdca26"
             ],
             [
              1,
              "#f0f921"
             ]
            ],
            "type": "histogram2dcontour"
           }
          ],
          "mesh3d": [
           {
            "colorbar": {
             "outlinewidth": 0,
             "ticks": ""
            },
            "type": "mesh3d"
           }
          ],
          "parcoords": [
           {
            "line": {
             "colorbar": {
              "outlinewidth": 0,
              "ticks": ""
             }
            },
            "type": "parcoords"
           }
          ],
          "pie": [
           {
            "automargin": true,
            "type": "pie"
           }
          ],
          "scatter": [
           {
            "fillpattern": {
             "fillmode": "overlay",
             "size": 10,
             "solidity": 0.2
            },
            "type": "scatter"
           }
          ],
          "scatter3d": [
           {
            "line": {
             "colorbar": {
              "outlinewidth": 0,
              "ticks": ""
             }
            },
            "marker": {
             "colorbar": {
              "outlinewidth": 0,
              "ticks": ""
             }
            },
            "type": "scatter3d"
           }
          ],
          "scattercarpet": [
           {
            "marker": {
             "colorbar": {
              "outlinewidth": 0,
              "ticks": ""
             }
            },
            "type": "scattercarpet"
           }
          ],
          "scattergeo": [
           {
            "marker": {
             "colorbar": {
              "outlinewidth": 0,
              "ticks": ""
             }
            },
            "type": "scattergeo"
           }
          ],
          "scattergl": [
           {
            "marker": {
             "colorbar": {
              "outlinewidth": 0,
              "ticks": ""
             }
            },
            "type": "scattergl"
           }
          ],
          "scattermapbox": [
           {
            "marker": {
             "colorbar": {
              "outlinewidth": 0,
              "ticks": ""
             }
            },
            "type": "scattermapbox"
           }
          ],
          "scatterpolar": [
           {
            "marker": {
             "colorbar": {
              "outlinewidth": 0,
              "ticks": ""
             }
            },
            "type": "scatterpolar"
           }
          ],
          "scatterpolargl": [
           {
            "marker": {
             "colorbar": {
              "outlinewidth": 0,
              "ticks": ""
             }
            },
            "type": "scatterpolargl"
           }
          ],
          "scatterternary": [
           {
            "marker": {
             "colorbar": {
              "outlinewidth": 0,
              "ticks": ""
             }
            },
            "type": "scatterternary"
           }
          ],
          "surface": [
           {
            "colorbar": {
             "outlinewidth": 0,
             "ticks": ""
            },
            "colorscale": [
             [
              0,
              "#0d0887"
             ],
             [
              0.1111111111111111,
              "#46039f"
             ],
             [
              0.2222222222222222,
              "#7201a8"
             ],
             [
              0.3333333333333333,
              "#9c179e"
             ],
             [
              0.4444444444444444,
              "#bd3786"
             ],
             [
              0.5555555555555556,
              "#d8576b"
             ],
             [
              0.6666666666666666,
              "#ed7953"
             ],
             [
              0.7777777777777778,
              "#fb9f3a"
             ],
             [
              0.8888888888888888,
              "#fdca26"
             ],
             [
              1,
              "#f0f921"
             ]
            ],
            "type": "surface"
           }
          ],
          "table": [
           {
            "cells": {
             "fill": {
              "color": "#EBF0F8"
             },
             "line": {
              "color": "white"
             }
            },
            "header": {
             "fill": {
              "color": "#C8D4E3"
             },
             "line": {
              "color": "white"
             }
            },
            "type": "table"
           }
          ]
         },
         "layout": {
          "annotationdefaults": {
           "arrowcolor": "#2a3f5f",
           "arrowhead": 0,
           "arrowwidth": 1
          },
          "autotypenumbers": "strict",
          "coloraxis": {
           "colorbar": {
            "outlinewidth": 0,
            "ticks": ""
           }
          },
          "colorscale": {
           "diverging": [
            [
             0,
             "#8e0152"
            ],
            [
             0.1,
             "#c51b7d"
            ],
            [
             0.2,
             "#de77ae"
            ],
            [
             0.3,
             "#f1b6da"
            ],
            [
             0.4,
             "#fde0ef"
            ],
            [
             0.5,
             "#f7f7f7"
            ],
            [
             0.6,
             "#e6f5d0"
            ],
            [
             0.7,
             "#b8e186"
            ],
            [
             0.8,
             "#7fbc41"
            ],
            [
             0.9,
             "#4d9221"
            ],
            [
             1,
             "#276419"
            ]
           ],
           "sequential": [
            [
             0,
             "#0d0887"
            ],
            [
             0.1111111111111111,
             "#46039f"
            ],
            [
             0.2222222222222222,
             "#7201a8"
            ],
            [
             0.3333333333333333,
             "#9c179e"
            ],
            [
             0.4444444444444444,
             "#bd3786"
            ],
            [
             0.5555555555555556,
             "#d8576b"
            ],
            [
             0.6666666666666666,
             "#ed7953"
            ],
            [
             0.7777777777777778,
             "#fb9f3a"
            ],
            [
             0.8888888888888888,
             "#fdca26"
            ],
            [
             1,
             "#f0f921"
            ]
           ],
           "sequentialminus": [
            [
             0,
             "#0d0887"
            ],
            [
             0.1111111111111111,
             "#46039f"
            ],
            [
             0.2222222222222222,
             "#7201a8"
            ],
            [
             0.3333333333333333,
             "#9c179e"
            ],
            [
             0.4444444444444444,
             "#bd3786"
            ],
            [
             0.5555555555555556,
             "#d8576b"
            ],
            [
             0.6666666666666666,
             "#ed7953"
            ],
            [
             0.7777777777777778,
             "#fb9f3a"
            ],
            [
             0.8888888888888888,
             "#fdca26"
            ],
            [
             1,
             "#f0f921"
            ]
           ]
          },
          "colorway": [
           "#636efa",
           "#EF553B",
           "#00cc96",
           "#ab63fa",
           "#FFA15A",
           "#19d3f3",
           "#FF6692",
           "#B6E880",
           "#FF97FF",
           "#FECB52"
          ],
          "font": {
           "color": "#2a3f5f"
          },
          "geo": {
           "bgcolor": "white",
           "lakecolor": "white",
           "landcolor": "#E5ECF6",
           "showlakes": true,
           "showland": true,
           "subunitcolor": "white"
          },
          "hoverlabel": {
           "align": "left"
          },
          "hovermode": "closest",
          "mapbox": {
           "style": "light"
          },
          "paper_bgcolor": "white",
          "plot_bgcolor": "#E5ECF6",
          "polar": {
           "angularaxis": {
            "gridcolor": "white",
            "linecolor": "white",
            "ticks": ""
           },
           "bgcolor": "#E5ECF6",
           "radialaxis": {
            "gridcolor": "white",
            "linecolor": "white",
            "ticks": ""
           }
          },
          "scene": {
           "xaxis": {
            "backgroundcolor": "#E5ECF6",
            "gridcolor": "white",
            "gridwidth": 2,
            "linecolor": "white",
            "showbackground": true,
            "ticks": "",
            "zerolinecolor": "white"
           },
           "yaxis": {
            "backgroundcolor": "#E5ECF6",
            "gridcolor": "white",
            "gridwidth": 2,
            "linecolor": "white",
            "showbackground": true,
            "ticks": "",
            "zerolinecolor": "white"
           },
           "zaxis": {
            "backgroundcolor": "#E5ECF6",
            "gridcolor": "white",
            "gridwidth": 2,
            "linecolor": "white",
            "showbackground": true,
            "ticks": "",
            "zerolinecolor": "white"
           }
          },
          "shapedefaults": {
           "line": {
            "color": "#2a3f5f"
           }
          },
          "ternary": {
           "aaxis": {
            "gridcolor": "white",
            "linecolor": "white",
            "ticks": ""
           },
           "baxis": {
            "gridcolor": "white",
            "linecolor": "white",
            "ticks": ""
           },
           "bgcolor": "#E5ECF6",
           "caxis": {
            "gridcolor": "white",
            "linecolor": "white",
            "ticks": ""
           }
          },
          "title": {
           "x": 0.05
          },
          "xaxis": {
           "automargin": true,
           "gridcolor": "white",
           "linecolor": "white",
           "ticks": "",
           "title": {
            "standoff": 15
           },
           "zerolinecolor": "white",
           "zerolinewidth": 2
          },
          "yaxis": {
           "automargin": true,
           "gridcolor": "white",
           "linecolor": "white",
           "ticks": "",
           "title": {
            "standoff": 15
           },
           "zerolinecolor": "white",
           "zerolinewidth": 2
          }
         }
        },
        "title": {
         "text": "2023 Eataly Locations and Potential New Location"
        }
       }
      }
     },
     "metadata": {},
     "output_type": "display_data"
    }
   ],
   "source": [
    "fig3 = go.Figure()\n",
    "fig3.add_trace(go.Scattergeo(lon=cluster_dfs['Long'],\n",
    "                             lat=cluster_dfs['Lat'],\n",
    "                             mode='markers',\n",
    "                             name='Proposed Location(s)',\n",
    "                             marker = dict(\n",
    "                                size = 14,\n",
    "                                opacity = 1,\n",
    "                                reversescale = True,\n",
    "                                autocolorscale = False,\n",
    "                                symbol = 'square',\n",
    "                                line = dict(width=1,\n",
    "                                            color='rgba(102, 102, 102)'))))\n",
    "\n",
    "fig3.add_trace(go.Scattergeo(lon=df['Long'],\n",
    "                             lat=df['Lat'],\n",
    "                             text=df['text'],\n",
    "                             mode='markers',\n",
    "                             name='Current Locations',\n",
    "                             opacity=1,\n",
    "                             marker = dict(\n",
    "                                size = 4,\n",
    "                                opacity = 0.7,\n",
    "                                reversescale = True,\n",
    "                                autocolorscale = False,\n",
    "                                line = dict(width=1,\n",
    "                                            color='rgba(255, 255, 255)'))))\n",
    "\n",
    "fig3.update_layout(\n",
    "        title_text = '2023 Eataly Locations and Potential New Location',\n",
    "        showlegend = True)\n",
    "\n",
    "fig3.show()"
   ]
  },
  {
   "cell_type": "code",
   "execution_count": null,
   "metadata": {},
   "outputs": [],
   "source": []
  }
 ],
 "metadata": {
  "kernelspec": {
   "display_name": "Python 3",
   "language": "python",
   "name": "python3"
  },
  "language_info": {
   "codemirror_mode": {
    "name": "ipython",
    "version": 3
   },
   "file_extension": ".py",
   "mimetype": "text/x-python",
   "name": "python",
   "nbconvert_exporter": "python",
   "pygments_lexer": "ipython3",
   "version": "3.11.8"
  }
 },
 "nbformat": 4,
 "nbformat_minor": 2
}
